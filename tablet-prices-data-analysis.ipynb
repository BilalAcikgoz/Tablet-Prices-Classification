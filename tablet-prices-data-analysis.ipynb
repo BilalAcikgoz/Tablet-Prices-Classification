{
 "cells": [
  {
   "cell_type": "markdown",
   "id": "072ffa80",
   "metadata": {
    "papermill": {
     "duration": 0.014656,
     "end_time": "2023-05-08T08:22:54.831910",
     "exception": false,
     "start_time": "2023-05-08T08:22:54.817254",
     "status": "completed"
    },
    "tags": []
   },
   "source": [
    "# **Exploratory Data Analysis(EDA)&Data Preprocessing&Machine Learning**"
   ]
  },
  {
   "cell_type": "markdown",
   "id": "8086f06b",
   "metadata": {
    "papermill": {
     "duration": 0.014941,
     "end_time": "2023-05-08T08:22:54.859260",
     "exception": false,
     "start_time": "2023-05-08T08:22:54.844319",
     "status": "completed"
    },
    "tags": []
   },
   "source": [
    "# İncluding Libraries"
   ]
  },
  {
   "cell_type": "code",
   "execution_count": 1,
   "id": "f44cacf2",
   "metadata": {
    "execution": {
     "iopub.execute_input": "2023-05-08T08:22:54.887062Z",
     "iopub.status.busy": "2023-05-08T08:22:54.886394Z",
     "iopub.status.idle": "2023-05-08T08:22:56.165109Z",
     "shell.execute_reply": "2023-05-08T08:22:56.163375Z"
    },
    "papermill": {
     "duration": 1.296528,
     "end_time": "2023-05-08T08:22:56.168533",
     "exception": false,
     "start_time": "2023-05-08T08:22:54.872005",
     "status": "completed"
    },
    "tags": []
   },
   "outputs": [],
   "source": [
    "import pandas as pd\n",
    "import numpy as np\n",
    "import matplotlib.pyplot as plt\n",
    "import seaborn as sns\n",
    "from warnings import filterwarnings\n",
    "\n",
    "filterwarnings(\"ignore\")"
   ]
  },
  {
   "cell_type": "markdown",
   "id": "8898eaef",
   "metadata": {
    "papermill": {
     "duration": 0.012661,
     "end_time": "2023-05-08T08:22:56.194220",
     "exception": false,
     "start_time": "2023-05-08T08:22:56.181559",
     "status": "completed"
    },
    "tags": []
   },
   "source": [
    "# Loading Datasets"
   ]
  },
  {
   "cell_type": "code",
   "execution_count": 2,
   "id": "3d46f1d7",
   "metadata": {
    "execution": {
     "iopub.execute_input": "2023-05-08T08:22:56.221786Z",
     "iopub.status.busy": "2023-05-08T08:22:56.221321Z",
     "iopub.status.idle": "2023-05-08T08:22:56.278896Z",
     "shell.execute_reply": "2023-05-08T08:22:56.277631Z"
    },
    "papermill": {
     "duration": 0.075354,
     "end_time": "2023-05-08T08:22:56.282447",
     "exception": false,
     "start_time": "2023-05-08T08:22:56.207093",
     "status": "completed"
    },
    "tags": []
   },
   "outputs": [
    {
     "data": {
      "text/html": [
       "<div>\n",
       "<style scoped>\n",
       "    .dataframe tbody tr th:only-of-type {\n",
       "        vertical-align: middle;\n",
       "    }\n",
       "\n",
       "    .dataframe tbody tr th {\n",
       "        vertical-align: top;\n",
       "    }\n",
       "\n",
       "    .dataframe thead th {\n",
       "        text-align: right;\n",
       "    }\n",
       "</style>\n",
       "<table border=\"1\" class=\"dataframe\">\n",
       "  <thead>\n",
       "    <tr style=\"text-align: right;\">\n",
       "      <th></th>\n",
       "      <th>BataryaGucu</th>\n",
       "      <th>Bluetooth</th>\n",
       "      <th>MikroislemciHizi</th>\n",
       "      <th>CiftHat</th>\n",
       "      <th>OnKameraMP</th>\n",
       "      <th>4G</th>\n",
       "      <th>DahiliBellek</th>\n",
       "      <th>Kalinlik</th>\n",
       "      <th>Agirlik</th>\n",
       "      <th>CekirdekSayisi</th>\n",
       "      <th>ArkaKameraMP</th>\n",
       "      <th>CozunurlukYükseklik</th>\n",
       "      <th>CozunurlukGenislik</th>\n",
       "      <th>RAM</th>\n",
       "      <th>BataryaOmru</th>\n",
       "      <th>3G</th>\n",
       "      <th>Dokunmatik</th>\n",
       "      <th>WiFi</th>\n",
       "      <th>FiyatAraligi</th>\n",
       "      <th>Renk</th>\n",
       "    </tr>\n",
       "  </thead>\n",
       "  <tbody>\n",
       "    <tr>\n",
       "      <th>0</th>\n",
       "      <td>1325</td>\n",
       "      <td>Yok</td>\n",
       "      <td>1.9</td>\n",
       "      <td>Yok</td>\n",
       "      <td>2.0</td>\n",
       "      <td>Yok</td>\n",
       "      <td>50</td>\n",
       "      <td>0.1</td>\n",
       "      <td>146</td>\n",
       "      <td>1</td>\n",
       "      <td>10</td>\n",
       "      <td>499</td>\n",
       "      <td>695</td>\n",
       "      <td>2328.0</td>\n",
       "      <td>2</td>\n",
       "      <td>Var</td>\n",
       "      <td>Yok</td>\n",
       "      <td>Yok</td>\n",
       "      <td>Normal</td>\n",
       "      <td>Beyaz</td>\n",
       "    </tr>\n",
       "    <tr>\n",
       "      <th>1</th>\n",
       "      <td>1046</td>\n",
       "      <td>Var</td>\n",
       "      <td>2.8</td>\n",
       "      <td>Var</td>\n",
       "      <td>0.0</td>\n",
       "      <td>Var</td>\n",
       "      <td>58</td>\n",
       "      <td>0.2</td>\n",
       "      <td>100</td>\n",
       "      <td>8</td>\n",
       "      <td>0</td>\n",
       "      <td>259</td>\n",
       "      <td>1040</td>\n",
       "      <td>3863.0</td>\n",
       "      <td>9</td>\n",
       "      <td>Var</td>\n",
       "      <td>Var</td>\n",
       "      <td>Var</td>\n",
       "      <td>Pahalı</td>\n",
       "      <td>Pembe</td>\n",
       "    </tr>\n",
       "    <tr>\n",
       "      <th>2</th>\n",
       "      <td>843</td>\n",
       "      <td>Yok</td>\n",
       "      <td>1.3</td>\n",
       "      <td>Var</td>\n",
       "      <td>1.0</td>\n",
       "      <td>Yok</td>\n",
       "      <td>16</td>\n",
       "      <td>0.9</td>\n",
       "      <td>119</td>\n",
       "      <td>7</td>\n",
       "      <td>4</td>\n",
       "      <td>593</td>\n",
       "      <td>732</td>\n",
       "      <td>1734.0</td>\n",
       "      <td>14</td>\n",
       "      <td>Yok</td>\n",
       "      <td>Yok</td>\n",
       "      <td>Var</td>\n",
       "      <td>Ucuz</td>\n",
       "      <td>Mor</td>\n",
       "    </tr>\n",
       "    <tr>\n",
       "      <th>3</th>\n",
       "      <td>894</td>\n",
       "      <td>Yok</td>\n",
       "      <td>0.5</td>\n",
       "      <td>Var</td>\n",
       "      <td>1.0</td>\n",
       "      <td>Var</td>\n",
       "      <td>50</td>\n",
       "      <td>0.5</td>\n",
       "      <td>199</td>\n",
       "      <td>3</td>\n",
       "      <td>14</td>\n",
       "      <td>1285</td>\n",
       "      <td>1462</td>\n",
       "      <td>3615.0</td>\n",
       "      <td>6</td>\n",
       "      <td>Var</td>\n",
       "      <td>Yok</td>\n",
       "      <td>Var</td>\n",
       "      <td>Pahalı</td>\n",
       "      <td>Turuncu</td>\n",
       "    </tr>\n",
       "    <tr>\n",
       "      <th>4</th>\n",
       "      <td>936</td>\n",
       "      <td>Yok</td>\n",
       "      <td>1.0</td>\n",
       "      <td>Yok</td>\n",
       "      <td>1.0</td>\n",
       "      <td>Yok</td>\n",
       "      <td>18</td>\n",
       "      <td>0.2</td>\n",
       "      <td>153</td>\n",
       "      <td>3</td>\n",
       "      <td>18</td>\n",
       "      <td>1330</td>\n",
       "      <td>1686</td>\n",
       "      <td>2391.0</td>\n",
       "      <td>3</td>\n",
       "      <td>Var</td>\n",
       "      <td>Var</td>\n",
       "      <td>Var</td>\n",
       "      <td>Normal</td>\n",
       "      <td>Beyaz</td>\n",
       "    </tr>\n",
       "  </tbody>\n",
       "</table>\n",
       "</div>"
      ],
      "text/plain": [
       "   BataryaGucu Bluetooth  MikroislemciHizi CiftHat  OnKameraMP   4G  \\\n",
       "0         1325       Yok               1.9     Yok         2.0  Yok   \n",
       "1         1046       Var               2.8     Var         0.0  Var   \n",
       "2          843       Yok               1.3     Var         1.0  Yok   \n",
       "3          894       Yok               0.5     Var         1.0  Var   \n",
       "4          936       Yok               1.0     Yok         1.0  Yok   \n",
       "\n",
       "   DahiliBellek  Kalinlik  Agirlik  CekirdekSayisi  ArkaKameraMP  \\\n",
       "0            50       0.1      146               1            10   \n",
       "1            58       0.2      100               8             0   \n",
       "2            16       0.9      119               7             4   \n",
       "3            50       0.5      199               3            14   \n",
       "4            18       0.2      153               3            18   \n",
       "\n",
       "   CozunurlukYükseklik  CozunurlukGenislik     RAM  BataryaOmru   3G  \\\n",
       "0                  499                 695  2328.0            2  Var   \n",
       "1                  259                1040  3863.0            9  Var   \n",
       "2                  593                 732  1734.0           14  Yok   \n",
       "3                 1285                1462  3615.0            6  Var   \n",
       "4                 1330                1686  2391.0            3  Var   \n",
       "\n",
       "  Dokunmatik WiFi FiyatAraligi     Renk  \n",
       "0        Yok  Yok       Normal    Beyaz  \n",
       "1        Var  Var       Pahalı    Pembe  \n",
       "2        Yok  Var         Ucuz      Mor  \n",
       "3        Yok  Var       Pahalı  Turuncu  \n",
       "4        Var  Var       Normal    Beyaz  "
      ]
     },
     "execution_count": 2,
     "metadata": {},
     "output_type": "execute_result"
    }
   ],
   "source": [
    "df = pd.read_csv(\"tablet.csv\")\n",
    "df.head()"
   ]
  },
  {
   "cell_type": "markdown",
   "id": "3caec9bb",
   "metadata": {
    "papermill": {
     "duration": 0.012868,
     "end_time": "2023-05-08T08:22:56.309507",
     "exception": false,
     "start_time": "2023-05-08T08:22:56.296639",
     "status": "completed"
    },
    "tags": []
   },
   "source": [
    "# INFORMATION ABOUT DATA"
   ]
  },
  {
   "cell_type": "code",
   "execution_count": 3,
   "id": "3de9f158",
   "metadata": {
    "execution": {
     "iopub.execute_input": "2023-05-08T08:22:56.338466Z",
     "iopub.status.busy": "2023-05-08T08:22:56.337926Z",
     "iopub.status.idle": "2023-05-08T08:22:56.363142Z",
     "shell.execute_reply": "2023-05-08T08:22:56.361729Z"
    },
    "papermill": {
     "duration": 0.042768,
     "end_time": "2023-05-08T08:22:56.365539",
     "exception": false,
     "start_time": "2023-05-08T08:22:56.322771",
     "status": "completed"
    },
    "tags": []
   },
   "outputs": [
    {
     "data": {
      "text/html": [
       "<div>\n",
       "<style scoped>\n",
       "    .dataframe tbody tr th:only-of-type {\n",
       "        vertical-align: middle;\n",
       "    }\n",
       "\n",
       "    .dataframe tbody tr th {\n",
       "        vertical-align: top;\n",
       "    }\n",
       "\n",
       "    .dataframe thead th {\n",
       "        text-align: right;\n",
       "    }\n",
       "</style>\n",
       "<table border=\"1\" class=\"dataframe\">\n",
       "  <thead>\n",
       "    <tr style=\"text-align: right;\">\n",
       "      <th></th>\n",
       "      <th>BataryaGucu</th>\n",
       "      <th>Bluetooth</th>\n",
       "      <th>MikroislemciHizi</th>\n",
       "      <th>CiftHat</th>\n",
       "      <th>OnKameraMP</th>\n",
       "      <th>4G</th>\n",
       "      <th>DahiliBellek</th>\n",
       "      <th>Kalinlik</th>\n",
       "      <th>Agirlik</th>\n",
       "      <th>CekirdekSayisi</th>\n",
       "      <th>ArkaKameraMP</th>\n",
       "      <th>CozunurlukYükseklik</th>\n",
       "      <th>CozunurlukGenislik</th>\n",
       "      <th>RAM</th>\n",
       "      <th>BataryaOmru</th>\n",
       "      <th>3G</th>\n",
       "      <th>Dokunmatik</th>\n",
       "      <th>WiFi</th>\n",
       "      <th>FiyatAraligi</th>\n",
       "      <th>Renk</th>\n",
       "    </tr>\n",
       "  </thead>\n",
       "  <tbody>\n",
       "    <tr>\n",
       "      <th>1995</th>\n",
       "      <td>689</td>\n",
       "      <td>Yok</td>\n",
       "      <td>2.9</td>\n",
       "      <td>Var</td>\n",
       "      <td>3.0</td>\n",
       "      <td>Var</td>\n",
       "      <td>7</td>\n",
       "      <td>0.8</td>\n",
       "      <td>147</td>\n",
       "      <td>2</td>\n",
       "      <td>6</td>\n",
       "      <td>487</td>\n",
       "      <td>722</td>\n",
       "      <td>1241.0</td>\n",
       "      <td>16</td>\n",
       "      <td>Var</td>\n",
       "      <td>Yok</td>\n",
       "      <td>Yok</td>\n",
       "      <td>Çok Ucuz</td>\n",
       "      <td>Siyah</td>\n",
       "    </tr>\n",
       "    <tr>\n",
       "      <th>1996</th>\n",
       "      <td>1654</td>\n",
       "      <td>Yok</td>\n",
       "      <td>1.8</td>\n",
       "      <td>Yok</td>\n",
       "      <td>1.0</td>\n",
       "      <td>Yok</td>\n",
       "      <td>11</td>\n",
       "      <td>0.3</td>\n",
       "      <td>146</td>\n",
       "      <td>7</td>\n",
       "      <td>2</td>\n",
       "      <td>1184</td>\n",
       "      <td>1719</td>\n",
       "      <td>1070.0</td>\n",
       "      <td>14</td>\n",
       "      <td>Var</td>\n",
       "      <td>Var</td>\n",
       "      <td>Var</td>\n",
       "      <td>Ucuz</td>\n",
       "      <td>Sarı</td>\n",
       "    </tr>\n",
       "    <tr>\n",
       "      <th>1997</th>\n",
       "      <td>742</td>\n",
       "      <td>Yok</td>\n",
       "      <td>2.2</td>\n",
       "      <td>Var</td>\n",
       "      <td>4.0</td>\n",
       "      <td>Yok</td>\n",
       "      <td>56</td>\n",
       "      <td>0.2</td>\n",
       "      <td>190</td>\n",
       "      <td>7</td>\n",
       "      <td>14</td>\n",
       "      <td>577</td>\n",
       "      <td>1359</td>\n",
       "      <td>3557.0</td>\n",
       "      <td>12</td>\n",
       "      <td>Yok</td>\n",
       "      <td>Var</td>\n",
       "      <td>Var</td>\n",
       "      <td>Pahalı</td>\n",
       "      <td>Turuncu</td>\n",
       "    </tr>\n",
       "    <tr>\n",
       "      <th>1998</th>\n",
       "      <td>704</td>\n",
       "      <td>Yok</td>\n",
       "      <td>2.2</td>\n",
       "      <td>Var</td>\n",
       "      <td>4.0</td>\n",
       "      <td>Yok</td>\n",
       "      <td>53</td>\n",
       "      <td>0.2</td>\n",
       "      <td>186</td>\n",
       "      <td>6</td>\n",
       "      <td>6</td>\n",
       "      <td>251</td>\n",
       "      <td>1013</td>\n",
       "      <td>3653.0</td>\n",
       "      <td>15</td>\n",
       "      <td>Var</td>\n",
       "      <td>Var</td>\n",
       "      <td>Var</td>\n",
       "      <td>Normal</td>\n",
       "      <td>Turkuaz</td>\n",
       "    </tr>\n",
       "    <tr>\n",
       "      <th>1999</th>\n",
       "      <td>1872</td>\n",
       "      <td>Yok</td>\n",
       "      <td>0.5</td>\n",
       "      <td>Yok</td>\n",
       "      <td>5.0</td>\n",
       "      <td>Var</td>\n",
       "      <td>26</td>\n",
       "      <td>0.5</td>\n",
       "      <td>172</td>\n",
       "      <td>4</td>\n",
       "      <td>10</td>\n",
       "      <td>672</td>\n",
       "      <td>1088</td>\n",
       "      <td>2273.0</td>\n",
       "      <td>8</td>\n",
       "      <td>Var</td>\n",
       "      <td>Yok</td>\n",
       "      <td>Var</td>\n",
       "      <td>Normal</td>\n",
       "      <td>Siyah</td>\n",
       "    </tr>\n",
       "  </tbody>\n",
       "</table>\n",
       "</div>"
      ],
      "text/plain": [
       "      BataryaGucu Bluetooth  MikroislemciHizi CiftHat  OnKameraMP   4G  \\\n",
       "1995          689       Yok               2.9     Var         3.0  Var   \n",
       "1996         1654       Yok               1.8     Yok         1.0  Yok   \n",
       "1997          742       Yok               2.2     Var         4.0  Yok   \n",
       "1998          704       Yok               2.2     Var         4.0  Yok   \n",
       "1999         1872       Yok               0.5     Yok         5.0  Var   \n",
       "\n",
       "      DahiliBellek  Kalinlik  Agirlik  CekirdekSayisi  ArkaKameraMP  \\\n",
       "1995             7       0.8      147               2             6   \n",
       "1996            11       0.3      146               7             2   \n",
       "1997            56       0.2      190               7            14   \n",
       "1998            53       0.2      186               6             6   \n",
       "1999            26       0.5      172               4            10   \n",
       "\n",
       "      CozunurlukYükseklik  CozunurlukGenislik     RAM  BataryaOmru   3G  \\\n",
       "1995                  487                 722  1241.0           16  Var   \n",
       "1996                 1184                1719  1070.0           14  Var   \n",
       "1997                  577                1359  3557.0           12  Yok   \n",
       "1998                  251                1013  3653.0           15  Var   \n",
       "1999                  672                1088  2273.0            8  Var   \n",
       "\n",
       "     Dokunmatik WiFi FiyatAraligi     Renk  \n",
       "1995        Yok  Yok     Çok Ucuz    Siyah  \n",
       "1996        Var  Var         Ucuz     Sarı  \n",
       "1997        Var  Var       Pahalı  Turuncu  \n",
       "1998        Var  Var       Normal  Turkuaz  \n",
       "1999        Yok  Var       Normal    Siyah  "
      ]
     },
     "execution_count": 3,
     "metadata": {},
     "output_type": "execute_result"
    }
   ],
   "source": [
    "df.tail()"
   ]
  },
  {
   "cell_type": "code",
   "execution_count": 4,
   "id": "57b38ba6",
   "metadata": {
    "execution": {
     "iopub.execute_input": "2023-05-08T08:22:56.395101Z",
     "iopub.status.busy": "2023-05-08T08:22:56.394475Z",
     "iopub.status.idle": "2023-05-08T08:22:56.403320Z",
     "shell.execute_reply": "2023-05-08T08:22:56.401958Z"
    },
    "papermill": {
     "duration": 0.026901,
     "end_time": "2023-05-08T08:22:56.405980",
     "exception": false,
     "start_time": "2023-05-08T08:22:56.379079",
     "status": "completed"
    },
    "tags": []
   },
   "outputs": [
    {
     "data": {
      "text/plain": [
       "(2000, 20)"
      ]
     },
     "execution_count": 4,
     "metadata": {},
     "output_type": "execute_result"
    }
   ],
   "source": [
    "df.shape # Kaç satır kaç sütun"
   ]
  },
  {
   "cell_type": "code",
   "execution_count": 5,
   "id": "61649875",
   "metadata": {
    "execution": {
     "iopub.execute_input": "2023-05-08T08:22:56.439843Z",
     "iopub.status.busy": "2023-05-08T08:22:56.439269Z",
     "iopub.status.idle": "2023-05-08T08:22:56.474475Z",
     "shell.execute_reply": "2023-05-08T08:22:56.473112Z"
    },
    "papermill": {
     "duration": 0.056801,
     "end_time": "2023-05-08T08:22:56.478205",
     "exception": false,
     "start_time": "2023-05-08T08:22:56.421404",
     "status": "completed"
    },
    "tags": []
   },
   "outputs": [
    {
     "name": "stdout",
     "output_type": "stream",
     "text": [
      "<class 'pandas.core.frame.DataFrame'>\n",
      "RangeIndex: 2000 entries, 0 to 1999\n",
      "Data columns (total 20 columns):\n",
      " #   Column               Non-Null Count  Dtype  \n",
      "---  ------               --------------  -----  \n",
      " 0   BataryaGucu          2000 non-null   int64  \n",
      " 1   Bluetooth            2000 non-null   object \n",
      " 2   MikroislemciHizi     2000 non-null   float64\n",
      " 3   CiftHat              2000 non-null   object \n",
      " 4   OnKameraMP           1995 non-null   float64\n",
      " 5   4G                   2000 non-null   object \n",
      " 6   DahiliBellek         2000 non-null   int64  \n",
      " 7   Kalinlik             2000 non-null   float64\n",
      " 8   Agirlik              2000 non-null   int64  \n",
      " 9   CekirdekSayisi       2000 non-null   int64  \n",
      " 10  ArkaKameraMP         2000 non-null   int64  \n",
      " 11  CozunurlukYükseklik  2000 non-null   int64  \n",
      " 12  CozunurlukGenislik   2000 non-null   int64  \n",
      " 13  RAM                  1988 non-null   float64\n",
      " 14  BataryaOmru          2000 non-null   int64  \n",
      " 15  3G                   2000 non-null   object \n",
      " 16  Dokunmatik           2000 non-null   object \n",
      " 17  WiFi                 2000 non-null   object \n",
      " 18  FiyatAraligi         2000 non-null   object \n",
      " 19  Renk                 2000 non-null   object \n",
      "dtypes: float64(4), int64(8), object(8)\n",
      "memory usage: 312.6+ KB\n"
     ]
    }
   ],
   "source": [
    "df.info()"
   ]
  },
  {
   "cell_type": "code",
   "execution_count": 6,
   "id": "d5c25854",
   "metadata": {
    "execution": {
     "iopub.execute_input": "2023-05-08T08:22:56.509926Z",
     "iopub.status.busy": "2023-05-08T08:22:56.508962Z",
     "iopub.status.idle": "2023-05-08T08:22:56.520306Z",
     "shell.execute_reply": "2023-05-08T08:22:56.518629Z"
    },
    "papermill": {
     "duration": 0.03044,
     "end_time": "2023-05-08T08:22:56.523306",
     "exception": false,
     "start_time": "2023-05-08T08:22:56.492866",
     "status": "completed"
    },
    "tags": []
   },
   "outputs": [
    {
     "data": {
      "text/plain": [
       "Normal      500\n",
       "Pahalı      500\n",
       "Ucuz        500\n",
       "Çok Ucuz    500\n",
       "Name: FiyatAraligi, dtype: int64"
      ]
     },
     "execution_count": 6,
     "metadata": {},
     "output_type": "execute_result"
    }
   ],
   "source": [
    "df[\"FiyatAraligi\"].value_counts() # Hedef değişkenimizin ne kadar dengeli dağıldığına bakalım"
   ]
  },
  {
   "cell_type": "code",
   "execution_count": 7,
   "id": "deda3b94",
   "metadata": {
    "execution": {
     "iopub.execute_input": "2023-05-08T08:22:56.555239Z",
     "iopub.status.busy": "2023-05-08T08:22:56.553713Z",
     "iopub.status.idle": "2023-05-08T08:22:56.763689Z",
     "shell.execute_reply": "2023-05-08T08:22:56.761630Z"
    },
    "papermill": {
     "duration": 0.228904,
     "end_time": "2023-05-08T08:22:56.766930",
     "exception": false,
     "start_time": "2023-05-08T08:22:56.538026",
     "status": "completed"
    },
    "tags": []
   },
   "outputs": [
    {
     "data": {
      "text/plain": [
       "<AxesSubplot:xlabel='FiyatAraligi', ylabel='count'>"
      ]
     },
     "execution_count": 7,
     "metadata": {},
     "output_type": "execute_result"
    },
    {
     "data": {
      "image/png": "[encoded data removed]",
      "text/plain": [
       "<Figure size 432x288 with 1 Axes>"
      ]
     },
     "metadata": {
      "needs_background": "light"
     },
     "output_type": "display_data"
    }
   ],
   "source": [
    "sns.countplot(x=\"FiyatAraligi\", data=df) # Dengeli dağılım"
   ]
  },
  {
   "cell_type": "markdown",
   "id": "44038079",
   "metadata": {
    "papermill": {
     "duration": 0.013978,
     "end_time": "2023-05-08T08:22:56.795634",
     "exception": false,
     "start_time": "2023-05-08T08:22:56.781656",
     "status": "completed"
    },
    "tags": []
   },
   "source": [
    "Sayısal değişkenler arasında korelasyon olup olmadığını göstermek için korelasyon matrisi çizdirelim. En güçlü pozitif ilişki hangi iki değişken arasındadır?"
   ]
  },
  {
   "cell_type": "code",
   "execution_count": 8,
   "id": "b9d4a187",
   "metadata": {
    "execution": {
     "iopub.execute_input": "2023-05-08T08:22:56.826597Z",
     "iopub.status.busy": "2023-05-08T08:22:56.826129Z",
     "iopub.status.idle": "2023-05-08T08:22:56.851833Z",
     "shell.execute_reply": "2023-05-08T08:22:56.850728Z"
    },
    "papermill": {
     "duration": 0.044228,
     "end_time": "2023-05-08T08:22:56.854392",
     "exception": false,
     "start_time": "2023-05-08T08:22:56.810164",
     "status": "completed"
    },
    "tags": []
   },
   "outputs": [
    {
     "data": {
      "text/html": [
       "<div>\n",
       "<style scoped>\n",
       "    .dataframe tbody tr th:only-of-type {\n",
       "        vertical-align: middle;\n",
       "    }\n",
       "\n",
       "    .dataframe tbody tr th {\n",
       "        vertical-align: top;\n",
       "    }\n",
       "\n",
       "    .dataframe thead th {\n",
       "        text-align: right;\n",
       "    }\n",
       "</style>\n",
       "<table border=\"1\" class=\"dataframe\">\n",
       "  <thead>\n",
       "    <tr style=\"text-align: right;\">\n",
       "      <th></th>\n",
       "      <th>BataryaGucu</th>\n",
       "      <th>MikroislemciHizi</th>\n",
       "      <th>OnKameraMP</th>\n",
       "      <th>DahiliBellek</th>\n",
       "      <th>Kalinlik</th>\n",
       "      <th>Agirlik</th>\n",
       "      <th>CekirdekSayisi</th>\n",
       "      <th>ArkaKameraMP</th>\n",
       "      <th>CozunurlukYükseklik</th>\n",
       "      <th>CozunurlukGenislik</th>\n",
       "      <th>RAM</th>\n",
       "      <th>BataryaOmru</th>\n",
       "    </tr>\n",
       "  </thead>\n",
       "  <tbody>\n",
       "    <tr>\n",
       "      <th>BataryaGucu</th>\n",
       "      <td>1.000000</td>\n",
       "      <td>0.011482</td>\n",
       "      <td>0.032167</td>\n",
       "      <td>-0.004004</td>\n",
       "      <td>0.034085</td>\n",
       "      <td>0.001844</td>\n",
       "      <td>-0.029727</td>\n",
       "      <td>0.031441</td>\n",
       "      <td>0.014901</td>\n",
       "      <td>-0.008402</td>\n",
       "      <td>-0.000883</td>\n",
       "      <td>0.052510</td>\n",
       "    </tr>\n",
       "    <tr>\n",
       "      <th>MikroislemciHizi</th>\n",
       "      <td>0.011482</td>\n",
       "      <td>1.000000</td>\n",
       "      <td>-0.000172</td>\n",
       "      <td>0.006545</td>\n",
       "      <td>-0.014364</td>\n",
       "      <td>0.012350</td>\n",
       "      <td>-0.005724</td>\n",
       "      <td>-0.005245</td>\n",
       "      <td>-0.014523</td>\n",
       "      <td>-0.009476</td>\n",
       "      <td>0.003969</td>\n",
       "      <td>-0.011432</td>\n",
       "    </tr>\n",
       "    <tr>\n",
       "      <th>OnKameraMP</th>\n",
       "      <td>0.032167</td>\n",
       "      <td>-0.000172</td>\n",
       "      <td>1.000000</td>\n",
       "      <td>-0.028642</td>\n",
       "      <td>-0.001723</td>\n",
       "      <td>0.024585</td>\n",
       "      <td>-0.013721</td>\n",
       "      <td>0.645697</td>\n",
       "      <td>-0.010662</td>\n",
       "      <td>-0.005646</td>\n",
       "      <td>0.012528</td>\n",
       "      <td>-0.007121</td>\n",
       "    </tr>\n",
       "    <tr>\n",
       "      <th>DahiliBellek</th>\n",
       "      <td>-0.004004</td>\n",
       "      <td>0.006545</td>\n",
       "      <td>-0.028642</td>\n",
       "      <td>1.000000</td>\n",
       "      <td>0.006886</td>\n",
       "      <td>-0.034214</td>\n",
       "      <td>-0.028310</td>\n",
       "      <td>-0.033273</td>\n",
       "      <td>0.010441</td>\n",
       "      <td>-0.008335</td>\n",
       "      <td>0.032883</td>\n",
       "      <td>-0.002790</td>\n",
       "    </tr>\n",
       "    <tr>\n",
       "      <th>Kalinlik</th>\n",
       "      <td>0.034085</td>\n",
       "      <td>-0.014364</td>\n",
       "      <td>-0.001723</td>\n",
       "      <td>0.006886</td>\n",
       "      <td>1.000000</td>\n",
       "      <td>0.021756</td>\n",
       "      <td>-0.003504</td>\n",
       "      <td>0.026282</td>\n",
       "      <td>0.025263</td>\n",
       "      <td>0.023566</td>\n",
       "      <td>-0.007293</td>\n",
       "      <td>0.017003</td>\n",
       "    </tr>\n",
       "    <tr>\n",
       "      <th>Agirlik</th>\n",
       "      <td>0.001844</td>\n",
       "      <td>0.012350</td>\n",
       "      <td>0.024585</td>\n",
       "      <td>-0.034214</td>\n",
       "      <td>0.021756</td>\n",
       "      <td>1.000000</td>\n",
       "      <td>-0.018989</td>\n",
       "      <td>0.018844</td>\n",
       "      <td>0.000939</td>\n",
       "      <td>0.000090</td>\n",
       "      <td>-0.002536</td>\n",
       "      <td>0.006209</td>\n",
       "    </tr>\n",
       "    <tr>\n",
       "      <th>CekirdekSayisi</th>\n",
       "      <td>-0.029727</td>\n",
       "      <td>-0.005724</td>\n",
       "      <td>-0.013721</td>\n",
       "      <td>-0.028310</td>\n",
       "      <td>-0.003504</td>\n",
       "      <td>-0.018989</td>\n",
       "      <td>1.000000</td>\n",
       "      <td>-0.001193</td>\n",
       "      <td>-0.006872</td>\n",
       "      <td>0.024480</td>\n",
       "      <td>0.005576</td>\n",
       "      <td>0.013148</td>\n",
       "    </tr>\n",
       "    <tr>\n",
       "      <th>ArkaKameraMP</th>\n",
       "      <td>0.031441</td>\n",
       "      <td>-0.005245</td>\n",
       "      <td>0.645697</td>\n",
       "      <td>-0.033273</td>\n",
       "      <td>0.026282</td>\n",
       "      <td>0.018844</td>\n",
       "      <td>-0.001193</td>\n",
       "      <td>1.000000</td>\n",
       "      <td>-0.018465</td>\n",
       "      <td>0.004196</td>\n",
       "      <td>0.029540</td>\n",
       "      <td>0.014657</td>\n",
       "    </tr>\n",
       "    <tr>\n",
       "      <th>CozunurlukYükseklik</th>\n",
       "      <td>0.014901</td>\n",
       "      <td>-0.014523</td>\n",
       "      <td>-0.010662</td>\n",
       "      <td>0.010441</td>\n",
       "      <td>0.025263</td>\n",
       "      <td>0.000939</td>\n",
       "      <td>-0.006872</td>\n",
       "      <td>-0.018465</td>\n",
       "      <td>1.000000</td>\n",
       "      <td>0.510664</td>\n",
       "      <td>-0.023421</td>\n",
       "      <td>-0.010645</td>\n",
       "    </tr>\n",
       "    <tr>\n",
       "      <th>CozunurlukGenislik</th>\n",
       "      <td>-0.008402</td>\n",
       "      <td>-0.009476</td>\n",
       "      <td>-0.005646</td>\n",
       "      <td>-0.008335</td>\n",
       "      <td>0.023566</td>\n",
       "      <td>0.000090</td>\n",
       "      <td>0.024480</td>\n",
       "      <td>0.004196</td>\n",
       "      <td>0.510664</td>\n",
       "      <td>1.000000</td>\n",
       "      <td>0.002101</td>\n",
       "      <td>0.006720</td>\n",
       "    </tr>\n",
       "    <tr>\n",
       "      <th>RAM</th>\n",
       "      <td>-0.000883</td>\n",
       "      <td>0.003969</td>\n",
       "      <td>0.012528</td>\n",
       "      <td>0.032883</td>\n",
       "      <td>-0.007293</td>\n",
       "      <td>-0.002536</td>\n",
       "      <td>0.005576</td>\n",
       "      <td>0.029540</td>\n",
       "      <td>-0.023421</td>\n",
       "      <td>0.002101</td>\n",
       "      <td>1.000000</td>\n",
       "      <td>0.010444</td>\n",
       "    </tr>\n",
       "    <tr>\n",
       "      <th>BataryaOmru</th>\n",
       "      <td>0.052510</td>\n",
       "      <td>-0.011432</td>\n",
       "      <td>-0.007121</td>\n",
       "      <td>-0.002790</td>\n",
       "      <td>0.017003</td>\n",
       "      <td>0.006209</td>\n",
       "      <td>0.013148</td>\n",
       "      <td>0.014657</td>\n",
       "      <td>-0.010645</td>\n",
       "      <td>0.006720</td>\n",
       "      <td>0.010444</td>\n",
       "      <td>1.000000</td>\n",
       "    </tr>\n",
       "  </tbody>\n",
       "</table>\n",
       "</div>"
      ],
      "text/plain": [
       "                     BataryaGucu  MikroislemciHizi  OnKameraMP  DahiliBellek  \\\n",
       "BataryaGucu             1.000000          0.011482    0.032167     -0.004004   \n",
       "MikroislemciHizi        0.011482          1.000000   -0.000172      0.006545   \n",
       "OnKameraMP              0.032167         -0.000172    1.000000     -0.028642   \n",
       "DahiliBellek           -0.004004          0.006545   -0.028642      1.000000   \n",
       "Kalinlik                0.034085         -0.014364   -0.001723      0.006886   \n",
       "Agirlik                 0.001844          0.012350    0.024585     -0.034214   \n",
       "CekirdekSayisi         -0.029727         -0.005724   -0.013721     -0.028310   \n",
       "ArkaKameraMP            0.031441         -0.005245    0.645697     -0.033273   \n",
       "CozunurlukYükseklik     0.014901         -0.014523   -0.010662      0.010441   \n",
       "CozunurlukGenislik     -0.008402         -0.009476   -0.005646     -0.008335   \n",
       "RAM                    -0.000883          0.003969    0.012528      0.032883   \n",
       "BataryaOmru             0.052510         -0.011432   -0.007121     -0.002790   \n",
       "\n",
       "                     Kalinlik   Agirlik  CekirdekSayisi  ArkaKameraMP  \\\n",
       "BataryaGucu          0.034085  0.001844       -0.029727      0.031441   \n",
       "MikroislemciHizi    -0.014364  0.012350       -0.005724     -0.005245   \n",
       "OnKameraMP          -0.001723  0.024585       -0.013721      0.645697   \n",
       "DahiliBellek         0.006886 -0.034214       -0.028310     -0.033273   \n",
       "Kalinlik             1.000000  0.021756       -0.003504      0.026282   \n",
       "Agirlik              0.021756  1.000000       -0.018989      0.018844   \n",
       "CekirdekSayisi      -0.003504 -0.018989        1.000000     -0.001193   \n",
       "ArkaKameraMP         0.026282  0.018844       -0.001193      1.000000   \n",
       "CozunurlukYükseklik  0.025263  0.000939       -0.006872     -0.018465   \n",
       "CozunurlukGenislik   0.023566  0.000090        0.024480      0.004196   \n",
       "RAM                 -0.007293 -0.002536        0.005576      0.029540   \n",
       "BataryaOmru          0.017003  0.006209        0.013148      0.014657   \n",
       "\n",
       "                     CozunurlukYükseklik  CozunurlukGenislik       RAM  \\\n",
       "BataryaGucu                     0.014901           -0.008402 -0.000883   \n",
       "MikroislemciHizi               -0.014523           -0.009476  0.003969   \n",
       "OnKameraMP                     -0.010662           -0.005646  0.012528   \n",
       "DahiliBellek                    0.010441           -0.008335  0.032883   \n",
       "Kalinlik                        0.025263            0.023566 -0.007293   \n",
       "Agirlik                         0.000939            0.000090 -0.002536   \n",
       "CekirdekSayisi                 -0.006872            0.024480  0.005576   \n",
       "ArkaKameraMP                   -0.018465            0.004196  0.029540   \n",
       "CozunurlukYükseklik             1.000000            0.510664 -0.023421   \n",
       "CozunurlukGenislik              0.510664            1.000000  0.002101   \n",
       "RAM                            -0.023421            0.002101  1.000000   \n",
       "BataryaOmru                    -0.010645            0.006720  0.010444   \n",
       "\n",
       "                     BataryaOmru  \n",
       "BataryaGucu             0.052510  \n",
       "MikroislemciHizi       -0.011432  \n",
       "OnKameraMP             -0.007121  \n",
       "DahiliBellek           -0.002790  \n",
       "Kalinlik                0.017003  \n",
       "Agirlik                 0.006209  \n",
       "CekirdekSayisi          0.013148  \n",
       "ArkaKameraMP            0.014657  \n",
       "CozunurlukYükseklik    -0.010645  \n",
       "CozunurlukGenislik      0.006720  \n",
       "RAM                     0.010444  \n",
       "BataryaOmru             1.000000  "
      ]
     },
     "execution_count": 8,
     "metadata": {},
     "output_type": "execute_result"
    }
   ],
   "source": [
    "corr = df.corr()\n",
    "corr # En güçlü ilişki \"ArkaKameraMP değişkeni ile \"ÖnkameraMP\" değişkeni arasındadır."
   ]
  },
  {
   "cell_type": "code",
   "execution_count": 9,
   "id": "752cf5eb",
   "metadata": {
    "execution": {
     "iopub.execute_input": "2023-05-08T08:22:56.887739Z",
     "iopub.status.busy": "2023-05-08T08:22:56.886550Z",
     "iopub.status.idle": "2023-05-08T08:22:57.302074Z",
     "shell.execute_reply": "2023-05-08T08:22:57.300630Z"
    },
    "papermill": {
     "duration": 0.435017,
     "end_time": "2023-05-08T08:22:57.305108",
     "exception": false,
     "start_time": "2023-05-08T08:22:56.870091",
     "status": "completed"
    },
    "tags": []
   },
   "outputs": [
    {
     "data": {
      "text/plain": [
       "<AxesSubplot:>"
      ]
     },
     "execution_count": 9,
     "metadata": {},
     "output_type": "execute_result"
    },
    {
     "data": {
      "image/png": "[encoded data removed]",
      "text/plain": [
       "<Figure size 432x288 with 2 Axes>"
      ]
     },
     "metadata": {
      "needs_background": "light"
     },
     "output_type": "display_data"
    }
   ],
   "source": [
    "sns.heatmap(corr,\n",
    "            xticklabels=corr.columns.values,\n",
    "            yticklabels=corr.columns.values)"
   ]
  },
  {
   "cell_type": "code",
   "execution_count": 10,
   "id": "bb87a8fc",
   "metadata": {
    "execution": {
     "iopub.execute_input": "2023-05-08T08:22:57.338678Z",
     "iopub.status.busy": "2023-05-08T08:22:57.338145Z",
     "iopub.status.idle": "2023-05-08T08:22:57.399348Z",
     "shell.execute_reply": "2023-05-08T08:22:57.398146Z"
    },
    "papermill": {
     "duration": 0.081069,
     "end_time": "2023-05-08T08:22:57.401928",
     "exception": false,
     "start_time": "2023-05-08T08:22:57.320859",
     "status": "completed"
    },
    "tags": []
   },
   "outputs": [
    {
     "data": {
      "text/html": [
       "<div>\n",
       "<style scoped>\n",
       "    .dataframe tbody tr th:only-of-type {\n",
       "        vertical-align: middle;\n",
       "    }\n",
       "\n",
       "    .dataframe tbody tr th {\n",
       "        vertical-align: top;\n",
       "    }\n",
       "\n",
       "    .dataframe thead th {\n",
       "        text-align: right;\n",
       "    }\n",
       "</style>\n",
       "<table border=\"1\" class=\"dataframe\">\n",
       "  <thead>\n",
       "    <tr style=\"text-align: right;\">\n",
       "      <th></th>\n",
       "      <th>count</th>\n",
       "      <th>mean</th>\n",
       "      <th>std</th>\n",
       "      <th>min</th>\n",
       "      <th>25%</th>\n",
       "      <th>50%</th>\n",
       "      <th>75%</th>\n",
       "      <th>max</th>\n",
       "    </tr>\n",
       "  </thead>\n",
       "  <tbody>\n",
       "    <tr>\n",
       "      <th>BataryaGucu</th>\n",
       "      <td>2000.0</td>\n",
       "      <td>1238.518500</td>\n",
       "      <td>439.418206</td>\n",
       "      <td>501.0</td>\n",
       "      <td>851.75</td>\n",
       "      <td>1226.0</td>\n",
       "      <td>1615.25</td>\n",
       "      <td>1998.0</td>\n",
       "    </tr>\n",
       "    <tr>\n",
       "      <th>MikroislemciHizi</th>\n",
       "      <td>2000.0</td>\n",
       "      <td>1.522250</td>\n",
       "      <td>0.816004</td>\n",
       "      <td>0.5</td>\n",
       "      <td>0.70</td>\n",
       "      <td>1.5</td>\n",
       "      <td>2.20</td>\n",
       "      <td>3.0</td>\n",
       "    </tr>\n",
       "    <tr>\n",
       "      <th>OnKameraMP</th>\n",
       "      <td>1995.0</td>\n",
       "      <td>4.312281</td>\n",
       "      <td>4.342095</td>\n",
       "      <td>0.0</td>\n",
       "      <td>1.00</td>\n",
       "      <td>3.0</td>\n",
       "      <td>7.00</td>\n",
       "      <td>19.0</td>\n",
       "    </tr>\n",
       "    <tr>\n",
       "      <th>DahiliBellek</th>\n",
       "      <td>2000.0</td>\n",
       "      <td>32.046500</td>\n",
       "      <td>18.145715</td>\n",
       "      <td>2.0</td>\n",
       "      <td>16.00</td>\n",
       "      <td>32.0</td>\n",
       "      <td>48.00</td>\n",
       "      <td>64.0</td>\n",
       "    </tr>\n",
       "    <tr>\n",
       "      <th>Kalinlik</th>\n",
       "      <td>2000.0</td>\n",
       "      <td>0.501750</td>\n",
       "      <td>0.288416</td>\n",
       "      <td>0.1</td>\n",
       "      <td>0.20</td>\n",
       "      <td>0.5</td>\n",
       "      <td>0.80</td>\n",
       "      <td>1.0</td>\n",
       "    </tr>\n",
       "    <tr>\n",
       "      <th>Agirlik</th>\n",
       "      <td>2000.0</td>\n",
       "      <td>140.249000</td>\n",
       "      <td>35.399655</td>\n",
       "      <td>80.0</td>\n",
       "      <td>109.00</td>\n",
       "      <td>141.0</td>\n",
       "      <td>170.00</td>\n",
       "      <td>200.0</td>\n",
       "    </tr>\n",
       "    <tr>\n",
       "      <th>CekirdekSayisi</th>\n",
       "      <td>2000.0</td>\n",
       "      <td>4.520500</td>\n",
       "      <td>2.287837</td>\n",
       "      <td>1.0</td>\n",
       "      <td>3.00</td>\n",
       "      <td>4.0</td>\n",
       "      <td>7.00</td>\n",
       "      <td>8.0</td>\n",
       "    </tr>\n",
       "    <tr>\n",
       "      <th>ArkaKameraMP</th>\n",
       "      <td>2000.0</td>\n",
       "      <td>9.916500</td>\n",
       "      <td>6.064315</td>\n",
       "      <td>0.0</td>\n",
       "      <td>5.00</td>\n",
       "      <td>10.0</td>\n",
       "      <td>15.00</td>\n",
       "      <td>20.0</td>\n",
       "    </tr>\n",
       "    <tr>\n",
       "      <th>CozunurlukYükseklik</th>\n",
       "      <td>2000.0</td>\n",
       "      <td>645.108000</td>\n",
       "      <td>443.780811</td>\n",
       "      <td>0.0</td>\n",
       "      <td>282.75</td>\n",
       "      <td>564.0</td>\n",
       "      <td>947.25</td>\n",
       "      <td>1960.0</td>\n",
       "    </tr>\n",
       "    <tr>\n",
       "      <th>CozunurlukGenislik</th>\n",
       "      <td>2000.0</td>\n",
       "      <td>1251.515500</td>\n",
       "      <td>432.199447</td>\n",
       "      <td>500.0</td>\n",
       "      <td>874.75</td>\n",
       "      <td>1247.0</td>\n",
       "      <td>1633.00</td>\n",
       "      <td>1998.0</td>\n",
       "    </tr>\n",
       "    <tr>\n",
       "      <th>RAM</th>\n",
       "      <td>1988.0</td>\n",
       "      <td>2116.243964</td>\n",
       "      <td>1082.513059</td>\n",
       "      <td>256.0</td>\n",
       "      <td>1204.75</td>\n",
       "      <td>2129.5</td>\n",
       "      <td>3049.50</td>\n",
       "      <td>3998.0</td>\n",
       "    </tr>\n",
       "    <tr>\n",
       "      <th>BataryaOmru</th>\n",
       "      <td>2000.0</td>\n",
       "      <td>11.011000</td>\n",
       "      <td>5.463955</td>\n",
       "      <td>2.0</td>\n",
       "      <td>6.00</td>\n",
       "      <td>11.0</td>\n",
       "      <td>16.00</td>\n",
       "      <td>20.0</td>\n",
       "    </tr>\n",
       "  </tbody>\n",
       "</table>\n",
       "</div>"
      ],
      "text/plain": [
       "                      count         mean          std    min      25%     50%  \\\n",
       "BataryaGucu          2000.0  1238.518500   439.418206  501.0   851.75  1226.0   \n",
       "MikroislemciHizi     2000.0     1.522250     0.816004    0.5     0.70     1.5   \n",
       "OnKameraMP           1995.0     4.312281     4.342095    0.0     1.00     3.0   \n",
       "DahiliBellek         2000.0    32.046500    18.145715    2.0    16.00    32.0   \n",
       "Kalinlik             2000.0     0.501750     0.288416    0.1     0.20     0.5   \n",
       "Agirlik              2000.0   140.249000    35.399655   80.0   109.00   141.0   \n",
       "CekirdekSayisi       2000.0     4.520500     2.287837    1.0     3.00     4.0   \n",
       "ArkaKameraMP         2000.0     9.916500     6.064315    0.0     5.00    10.0   \n",
       "CozunurlukYükseklik  2000.0   645.108000   443.780811    0.0   282.75   564.0   \n",
       "CozunurlukGenislik   2000.0  1251.515500   432.199447  500.0   874.75  1247.0   \n",
       "RAM                  1988.0  2116.243964  1082.513059  256.0  1204.75  2129.5   \n",
       "BataryaOmru          2000.0    11.011000     5.463955    2.0     6.00    11.0   \n",
       "\n",
       "                         75%     max  \n",
       "BataryaGucu          1615.25  1998.0  \n",
       "MikroislemciHizi        2.20     3.0  \n",
       "OnKameraMP              7.00    19.0  \n",
       "DahiliBellek           48.00    64.0  \n",
       "Kalinlik                0.80     1.0  \n",
       "Agirlik               170.00   200.0  \n",
       "CekirdekSayisi          7.00     8.0  \n",
       "ArkaKameraMP           15.00    20.0  \n",
       "CozunurlukYükseklik   947.25  1960.0  \n",
       "CozunurlukGenislik   1633.00  1998.0  \n",
       "RAM                  3049.50  3998.0  \n",
       "BataryaOmru            16.00    20.0  "
      ]
     },
     "execution_count": 10,
     "metadata": {},
     "output_type": "execute_result"
    }
   ],
   "source": [
    "df.describe().T # Sayısal değişkenler için temel istatistiki değerlere bakıyoruz"
   ]
  },
  {
   "cell_type": "markdown",
   "id": "83a3a67e",
   "metadata": {
    "papermill": {
     "duration": 0.015549,
     "end_time": "2023-05-08T08:22:57.433796",
     "exception": false,
     "start_time": "2023-05-08T08:22:57.418247",
     "status": "completed"
    },
    "tags": []
   },
   "source": [
    "Veri çerçevemizde \"wifi\", \"bataryaömrü\" ve \"renk\" değişkenlerimizin ne kadar dengeli dağıldığını sorgulayalım"
   ]
  },
  {
   "cell_type": "code",
   "execution_count": 11,
   "id": "b1489d31",
   "metadata": {
    "execution": {
     "iopub.execute_input": "2023-05-08T08:22:57.468782Z",
     "iopub.status.busy": "2023-05-08T08:22:57.468018Z",
     "iopub.status.idle": "2023-05-08T08:22:57.478093Z",
     "shell.execute_reply": "2023-05-08T08:22:57.476883Z"
    },
    "papermill": {
     "duration": 0.030864,
     "end_time": "2023-05-08T08:22:57.480772",
     "exception": false,
     "start_time": "2023-05-08T08:22:57.449908",
     "status": "completed"
    },
    "tags": []
   },
   "outputs": [
    {
     "data": {
      "text/plain": [
       "Var    1014\n",
       "Yok     986\n",
       "Name: WiFi, dtype: int64"
      ]
     },
     "execution_count": 11,
     "metadata": {},
     "output_type": "execute_result"
    }
   ],
   "source": [
    "df[\"WiFi\"].value_counts()"
   ]
  },
  {
   "cell_type": "code",
   "execution_count": 12,
   "id": "acb039af",
   "metadata": {
    "execution": {
     "iopub.execute_input": "2023-05-08T08:22:57.517040Z",
     "iopub.status.busy": "2023-05-08T08:22:57.516028Z",
     "iopub.status.idle": "2023-05-08T08:22:57.527721Z",
     "shell.execute_reply": "2023-05-08T08:22:57.526264Z"
    },
    "papermill": {
     "duration": 0.032949,
     "end_time": "2023-05-08T08:22:57.530979",
     "exception": false,
     "start_time": "2023-05-08T08:22:57.498030",
     "status": "completed"
    },
    "tags": []
   },
   "outputs": [
    {
     "data": {
      "text/plain": [
       "Beyaz         194\n",
       "Siyah         183\n",
       "Mor           175\n",
       "Turuncu       175\n",
       "Pembe         168\n",
       "Kırmızı       168\n",
       "Turkuaz       167\n",
       "Kahverengi    157\n",
       "Sarı          156\n",
       "Yeşil         154\n",
       "Gri           153\n",
       "Mavi          150\n",
       "Name: Renk, dtype: int64"
      ]
     },
     "execution_count": 12,
     "metadata": {},
     "output_type": "execute_result"
    }
   ],
   "source": [
    "df[\"Renk\"].value_counts()"
   ]
  },
  {
   "cell_type": "code",
   "execution_count": 13,
   "id": "daf156ef",
   "metadata": {
    "execution": {
     "iopub.execute_input": "2023-05-08T08:22:57.565745Z",
     "iopub.status.busy": "2023-05-08T08:22:57.565272Z",
     "iopub.status.idle": "2023-05-08T08:22:57.573641Z",
     "shell.execute_reply": "2023-05-08T08:22:57.572193Z"
    },
    "papermill": {
     "duration": 0.029241,
     "end_time": "2023-05-08T08:22:57.576371",
     "exception": false,
     "start_time": "2023-05-08T08:22:57.547130",
     "status": "completed"
    },
    "tags": []
   },
   "outputs": [
    {
     "data": {
      "text/plain": [
       "12"
      ]
     },
     "execution_count": 13,
     "metadata": {},
     "output_type": "execute_result"
    }
   ],
   "source": [
    "df[\"Renk\"].nunique()"
   ]
  },
  {
   "cell_type": "code",
   "execution_count": 14,
   "id": "ffcb3ad3",
   "metadata": {
    "execution": {
     "iopub.execute_input": "2023-05-08T08:22:57.612224Z",
     "iopub.status.busy": "2023-05-08T08:22:57.610620Z",
     "iopub.status.idle": "2023-05-08T08:22:57.620251Z",
     "shell.execute_reply": "2023-05-08T08:22:57.618984Z"
    },
    "papermill": {
     "duration": 0.030388,
     "end_time": "2023-05-08T08:22:57.622987",
     "exception": false,
     "start_time": "2023-05-08T08:22:57.592599",
     "status": "completed"
    },
    "tags": []
   },
   "outputs": [
    {
     "data": {
      "text/plain": [
       "array(['Beyaz', 'Pembe', 'Mor', 'Turuncu', 'Gri', 'Sarı', 'Mavi',\n",
       "       'Turkuaz', 'Kahverengi', 'Yeşil', 'Kırmızı', 'Siyah'], dtype=object)"
      ]
     },
     "execution_count": 14,
     "metadata": {},
     "output_type": "execute_result"
    }
   ],
   "source": [
    "df[\"Renk\"].unique()"
   ]
  },
  {
   "cell_type": "markdown",
   "id": "06aa345c",
   "metadata": {
    "papermill": {
     "duration": 0.016714,
     "end_time": "2023-05-08T08:22:57.656972",
     "exception": false,
     "start_time": "2023-05-08T08:22:57.640258",
     "status": "completed"
    },
    "tags": []
   },
   "source": [
    "# DATA VİSUALİZATİON"
   ]
  },
  {
   "cell_type": "code",
   "execution_count": 15,
   "id": "8d94bfc2",
   "metadata": {
    "execution": {
     "iopub.execute_input": "2023-05-08T08:22:57.692256Z",
     "iopub.status.busy": "2023-05-08T08:22:57.691688Z",
     "iopub.status.idle": "2023-05-08T08:22:57.829137Z",
     "shell.execute_reply": "2023-05-08T08:22:57.827303Z"
    },
    "papermill": {
     "duration": 0.161073,
     "end_time": "2023-05-08T08:22:57.834333",
     "exception": false,
     "start_time": "2023-05-08T08:22:57.673260",
     "status": "completed"
    },
    "tags": []
   },
   "outputs": [
    {
     "data": {
      "text/plain": [
       "<AxesSubplot:xlabel='Dokunmatik', ylabel='count'>"
      ]
     },
     "execution_count": 15,
     "metadata": {},
     "output_type": "execute_result"
    },
    {
     "data": {
      "image/png": "[encoded data removed]",
      "text/plain": [
       "<Figure size 432x288 with 1 Axes>"
      ]
     },
     "metadata": {
      "needs_background": "light"
     },
     "output_type": "display_data"
    }
   ],
   "source": [
    "sns.countplot(df[\"Dokunmatik\"])"
   ]
  },
  {
   "cell_type": "code",
   "execution_count": 16,
   "id": "91ea7817",
   "metadata": {
    "execution": {
     "iopub.execute_input": "2023-05-08T08:22:57.884550Z",
     "iopub.status.busy": "2023-05-08T08:22:57.883664Z",
     "iopub.status.idle": "2023-05-08T08:22:58.096799Z",
     "shell.execute_reply": "2023-05-08T08:22:58.095340Z"
    },
    "papermill": {
     "duration": 0.234698,
     "end_time": "2023-05-08T08:22:58.100281",
     "exception": false,
     "start_time": "2023-05-08T08:22:57.865583",
     "status": "completed"
    },
    "tags": []
   },
   "outputs": [
    {
     "data": {
      "text/plain": [
       "<AxesSubplot:xlabel='Agirlik'>"
      ]
     },
     "execution_count": 16,
     "metadata": {},
     "output_type": "execute_result"
    },
    {
     "data": {
      "image/png": "[encoded data removed]",
      "text/plain": [
       "<Figure size 432x288 with 1 Axes>"
      ]
     },
     "metadata": {
      "needs_background": "light"
     },
     "output_type": "display_data"
    }
   ],
   "source": [
    "sns.boxplot(df[\"Agirlik\"], color=\"green\")"
   ]
  },
  {
   "cell_type": "code",
   "execution_count": 17,
   "id": "b395acc8",
   "metadata": {
    "execution": {
     "iopub.execute_input": "2023-05-08T08:22:58.136898Z",
     "iopub.status.busy": "2023-05-08T08:22:58.136339Z",
     "iopub.status.idle": "2023-05-08T08:22:58.359392Z",
     "shell.execute_reply": "2023-05-08T08:22:58.358085Z"
    },
    "papermill": {
     "duration": 0.245218,
     "end_time": "2023-05-08T08:22:58.362406",
     "exception": false,
     "start_time": "2023-05-08T08:22:58.117188",
     "status": "completed"
    },
    "tags": []
   },
   "outputs": [
    {
     "data": {
      "text/plain": [
       "<AxesSubplot:ylabel='RAM'>"
      ]
     },
     "execution_count": 17,
     "metadata": {},
     "output_type": "execute_result"
    },
    {
     "data": {
      "image/png": "[encoded data removed]",
      "text/plain": [
       "<Figure size 432x288 with 1 Axes>"
      ]
     },
     "metadata": {
      "needs_background": "light"
     },
     "output_type": "display_data"
    }
   ],
   "source": [
    "sns.violinplot(y=\"RAM\", color=\"orange\", data=df)"
   ]
  },
  {
   "cell_type": "markdown",
   "id": "af07e0a7",
   "metadata": {
    "papermill": {
     "duration": 0.01678,
     "end_time": "2023-05-08T08:22:58.398013",
     "exception": false,
     "start_time": "2023-05-08T08:22:58.381233",
     "status": "completed"
    },
    "tags": []
   },
   "source": [
    "RAM değişkenimizin değeri yoğun olarak 2000 değerinde dağılmış. Yani normal bir dağılım olduğunu söyleyebiliriz."
   ]
  },
  {
   "cell_type": "code",
   "execution_count": 18,
   "id": "4fdc9bbd",
   "metadata": {
    "execution": {
     "iopub.execute_input": "2023-05-08T08:22:58.434990Z",
     "iopub.status.busy": "2023-05-08T08:22:58.434451Z",
     "iopub.status.idle": "2023-05-08T08:22:58.659536Z",
     "shell.execute_reply": "2023-05-08T08:22:58.658348Z"
    },
    "papermill": {
     "duration": 0.247368,
     "end_time": "2023-05-08T08:22:58.662763",
     "exception": false,
     "start_time": "2023-05-08T08:22:58.415395",
     "status": "completed"
    },
    "tags": []
   },
   "outputs": [
    {
     "data": {
      "text/plain": [
       "<AxesSubplot:xlabel='FiyatAraligi', ylabel='count'>"
      ]
     },
     "execution_count": 18,
     "metadata": {},
     "output_type": "execute_result"
    },
    {
     "data": {
      "image/png": "[encoded data removed]",
      "text/plain": [
       "<Figure size 432x288 with 1 Axes>"
      ]
     },
     "metadata": {
      "needs_background": "light"
     },
     "output_type": "display_data"
    }
   ],
   "source": [
    "sns.countplot(x=\"FiyatAraligi\", data=df)"
   ]
  },
  {
   "cell_type": "code",
   "execution_count": 19,
   "id": "f83a0fb9",
   "metadata": {
    "execution": {
     "iopub.execute_input": "2023-05-08T08:22:58.701844Z",
     "iopub.status.busy": "2023-05-08T08:22:58.701107Z",
     "iopub.status.idle": "2023-05-08T08:22:59.034561Z",
     "shell.execute_reply": "2023-05-08T08:22:59.033046Z"
    },
    "papermill": {
     "duration": 0.356622,
     "end_time": "2023-05-08T08:22:59.037552",
     "exception": false,
     "start_time": "2023-05-08T08:22:58.680930",
     "status": "completed"
    },
    "tags": []
   },
   "outputs": [
    {
     "data": {
      "text/plain": [
       "<AxesSubplot:xlabel='BataryaOmru', ylabel='count'>"
      ]
     },
     "execution_count": 19,
     "metadata": {},
     "output_type": "execute_result"
    },
    {
     "data": {
      "image/png": "[encoded data removed]",
      "text/plain": [
       "<Figure size 432x288 with 1 Axes>"
      ]
     },
     "metadata": {
      "needs_background": "light"
     },
     "output_type": "display_data"
    }
   ],
   "source": [
    "sns.countplot(x=\"BataryaOmru\", data=df)"
   ]
  },
  {
   "cell_type": "code",
   "execution_count": 20,
   "id": "da7f5dc0",
   "metadata": {
    "execution": {
     "iopub.execute_input": "2023-05-08T08:22:59.076581Z",
     "iopub.status.busy": "2023-05-08T08:22:59.076074Z",
     "iopub.status.idle": "2023-05-08T08:23:00.743196Z",
     "shell.execute_reply": "2023-05-08T08:23:00.741490Z"
    },
    "papermill": {
     "duration": 1.690126,
     "end_time": "2023-05-08T08:23:00.746234",
     "exception": false,
     "start_time": "2023-05-08T08:22:59.056108",
     "status": "completed"
    },
    "tags": []
   },
   "outputs": [
    {
     "data": {
      "text/plain": [
       "<AxesSubplot:xlabel='Agirlik', ylabel='count'>"
      ]
     },
     "execution_count": 20,
     "metadata": {},
     "output_type": "execute_result"
    },
    {
     "data": {
      "image/png": "[encoded data removed]",
      "text/plain": [
       "<Figure size 432x288 with 1 Axes>"
      ]
     },
     "metadata": {
      "needs_background": "light"
     },
     "output_type": "display_data"
    }
   ],
   "source": [
    "sns.countplot(x=\"Agirlik\", data=df)"
   ]
  },
  {
   "cell_type": "code",
   "execution_count": 21,
   "id": "2dd37f17",
   "metadata": {
    "execution": {
     "iopub.execute_input": "2023-05-08T08:23:00.787310Z",
     "iopub.status.busy": "2023-05-08T08:23:00.786754Z",
     "iopub.status.idle": "2023-05-08T08:23:01.124749Z",
     "shell.execute_reply": "2023-05-08T08:23:01.123166Z"
    },
    "papermill": {
     "duration": 0.362041,
     "end_time": "2023-05-08T08:23:01.128013",
     "exception": false,
     "start_time": "2023-05-08T08:23:00.765972",
     "status": "completed"
    },
    "tags": []
   },
   "outputs": [
    {
     "data": {
      "text/plain": [
       "<AxesSubplot:xlabel='BataryaGucu', ylabel='Density'>"
      ]
     },
     "execution_count": 21,
     "metadata": {},
     "output_type": "execute_result"
    },
    {
     "data": {
      "image/png": "[encoded data removed]",
      "text/plain": [
       "<Figure size 432x288 with 1 Axes>"
      ]
     },
     "metadata": {
      "needs_background": "light"
     },
     "output_type": "display_data"
    }
   ],
   "source": [
    "sns.distplot(df[\"BataryaGucu\"], bins=20, color=\"blue\")"
   ]
  },
  {
   "cell_type": "code",
   "execution_count": 22,
   "id": "69e4e351",
   "metadata": {
    "execution": {
     "iopub.execute_input": "2023-05-08T08:23:01.170417Z",
     "iopub.status.busy": "2023-05-08T08:23:01.168807Z",
     "iopub.status.idle": "2023-05-08T08:23:01.543568Z",
     "shell.execute_reply": "2023-05-08T08:23:01.541400Z"
    },
    "papermill": {
     "duration": 0.400121,
     "end_time": "2023-05-08T08:23:01.547767",
     "exception": false,
     "start_time": "2023-05-08T08:23:01.147646",
     "status": "completed"
    },
    "tags": []
   },
   "outputs": [
    {
     "data": {
      "text/plain": [
       "<seaborn.axisgrid.FacetGrid at 0x7698eb027e50>"
      ]
     },
     "execution_count": 22,
     "metadata": {},
     "output_type": "execute_result"
    },
    {
     "data": {
      "image/png": "[encoded data removed]",
      "text/plain": [
       "<Figure size 360x360 with 1 Axes>"
      ]
     },
     "metadata": {
      "needs_background": "light"
     },
     "output_type": "display_data"
    }
   ],
   "source": [
    "sns.relplot(x=\"FiyatAraligi\", y=\"BataryaGucu\", kind=\"line\", ci=\"sd\", color=\"red\", data=df)"
   ]
  },
  {
   "cell_type": "code",
   "execution_count": 23,
   "id": "3215a9c1",
   "metadata": {
    "execution": {
     "iopub.execute_input": "2023-05-08T08:23:01.590510Z",
     "iopub.status.busy": "2023-05-08T08:23:01.589959Z",
     "iopub.status.idle": "2023-05-08T08:23:02.175152Z",
     "shell.execute_reply": "2023-05-08T08:23:02.173325Z"
    },
    "papermill": {
     "duration": 0.610912,
     "end_time": "2023-05-08T08:23:02.179124",
     "exception": false,
     "start_time": "2023-05-08T08:23:01.568212",
     "status": "completed"
    },
    "tags": []
   },
   "outputs": [
    {
     "data": {
      "text/plain": [
       "<AxesSubplot:xlabel='FiyatAraligi', ylabel='RAM'>"
      ]
     },
     "execution_count": 23,
     "metadata": {},
     "output_type": "execute_result"
    },
    {
     "data": {
      "image/png": "[encoded data removed]",
      "text/plain": [
       "<Figure size 432x288 with 1 Axes>"
      ]
     },
     "metadata": {
      "needs_background": "light"
     },
     "output_type": "display_data"
    }
   ],
   "source": [
    "sns.barplot(x=\"FiyatAraligi\", y=\"RAM\", data=df)"
   ]
  },
  {
   "cell_type": "code",
   "execution_count": 24,
   "id": "d1dacd93",
   "metadata": {
    "execution": {
     "iopub.execute_input": "2023-05-08T08:23:02.223868Z",
     "iopub.status.busy": "2023-05-08T08:23:02.223297Z",
     "iopub.status.idle": "2023-05-08T08:23:02.558120Z",
     "shell.execute_reply": "2023-05-08T08:23:02.556925Z"
    },
    "papermill": {
     "duration": 0.361959,
     "end_time": "2023-05-08T08:23:02.562425",
     "exception": false,
     "start_time": "2023-05-08T08:23:02.200466",
     "status": "completed"
    },
    "tags": []
   },
   "outputs": [
    {
     "data": {
      "text/plain": [
       "<AxesSubplot:xlabel='ArkaKameraMP', ylabel='DahiliBellek'>"
      ]
     },
     "execution_count": 24,
     "metadata": {},
     "output_type": "execute_result"
    },
    {
     "data": {
      "image/png": "[encoded data removed]",
      "text/plain": [
       "<Figure size 432x288 with 1 Axes>"
      ]
     },
     "metadata": {
      "needs_background": "light"
     },
     "output_type": "display_data"
    }
   ],
   "source": [
    "sns.scatterplot(x=\"ArkaKameraMP\", y=\"DahiliBellek\", data=df, color=\"blue\")"
   ]
  },
  {
   "cell_type": "markdown",
   "id": "16d9f6d6",
   "metadata": {
    "papermill": {
     "duration": 0.020922,
     "end_time": "2023-05-08T08:23:02.607972",
     "exception": false,
     "start_time": "2023-05-08T08:23:02.587050",
     "status": "completed"
    },
    "tags": []
   },
   "source": [
    "Aralarında negatif bir ilişki olduğunu söyleyebiliriz."
   ]
  },
  {
   "cell_type": "code",
   "execution_count": 25,
   "id": "63147aa1",
   "metadata": {
    "execution": {
     "iopub.execute_input": "2023-05-08T08:23:02.653635Z",
     "iopub.status.busy": "2023-05-08T08:23:02.651662Z",
     "iopub.status.idle": "2023-05-08T08:23:03.289920Z",
     "shell.execute_reply": "2023-05-08T08:23:03.288156Z"
    },
    "papermill": {
     "duration": 0.665558,
     "end_time": "2023-05-08T08:23:03.294480",
     "exception": false,
     "start_time": "2023-05-08T08:23:02.628922",
     "status": "completed"
    },
    "tags": []
   },
   "outputs": [
    {
     "data": {
      "text/plain": [
       "<AxesSubplot:xlabel='RAM', ylabel='BataryaGucu'>"
      ]
     },
     "execution_count": 25,
     "metadata": {},
     "output_type": "execute_result"
    },
    {
     "data": {
      "image/png": "[encoded data removed]",
      "text/plain": [
       "<Figure size 432x288 with 1 Axes>"
      ]
     },
     "metadata": {
      "needs_background": "light"
     },
     "output_type": "display_data"
    }
   ],
   "source": [
    "sns.scatterplot(x=\"RAM\", y=\"BataryaGucu\", hue=\"FiyatAraligi\", data=df)"
   ]
  },
  {
   "cell_type": "markdown",
   "id": "2179adcc",
   "metadata": {
    "papermill": {
     "duration": 0.026475,
     "end_time": "2023-05-08T08:23:03.346544",
     "exception": false,
     "start_time": "2023-05-08T08:23:03.320069",
     "status": "completed"
    },
    "tags": []
   },
   "source": [
    "Doğru bir orantı söz konusu"
   ]
  },
  {
   "cell_type": "code",
   "execution_count": 26,
   "id": "1ea0ce38",
   "metadata": {
    "execution": {
     "iopub.execute_input": "2023-05-08T08:23:03.398567Z",
     "iopub.status.busy": "2023-05-08T08:23:03.397207Z",
     "iopub.status.idle": "2023-05-08T08:23:05.241635Z",
     "shell.execute_reply": "2023-05-08T08:23:05.240245Z"
    },
    "papermill": {
     "duration": 1.873334,
     "end_time": "2023-05-08T08:23:05.244631",
     "exception": false,
     "start_time": "2023-05-08T08:23:03.371297",
     "status": "completed"
    },
    "tags": []
   },
   "outputs": [
    {
     "data": {
      "text/plain": [
       "<seaborn.axisgrid.FacetGrid at 0x7698eabbf610>"
      ]
     },
     "execution_count": 26,
     "metadata": {},
     "output_type": "execute_result"
    },
    {
     "data": {
      "image/png": "[encoded data removed]",
      "text/plain": [
       "<Figure size 452.5x360 with 1 Axes>"
      ]
     },
     "metadata": {
      "needs_background": "light"
     },
     "output_type": "display_data"
    }
   ],
   "source": [
    "sns.catplot(\"FiyatAraligi\", \"RAM\", \"Renk\", data=df, kind=\"bar\")"
   ]
  },
  {
   "cell_type": "markdown",
   "id": "6c93de3c",
   "metadata": {
    "papermill": {
     "duration": 0.023141,
     "end_time": "2023-05-08T08:23:05.291726",
     "exception": false,
     "start_time": "2023-05-08T08:23:05.268585",
     "status": "completed"
    },
    "tags": []
   },
   "source": [
    "•RAM ve BataryaGucu değişkenleri arasında doğru orantı olduğunu söylemiştik. Şimdi ise Renk değişkeni ile FiyatAraligi değişkeni arasındaki ilişkiyi inceledik.\n",
    "• Grafikten de görüldüğü üzere Renk ve FiyatAraligi değişkenleri arasında bir ilişkiden söz etmek mümkün değil."
   ]
  },
  {
   "cell_type": "markdown",
   "id": "e872a9f9",
   "metadata": {
    "papermill": {
     "duration": 0.024714,
     "end_time": "2023-05-08T08:23:05.341248",
     "exception": false,
     "start_time": "2023-05-08T08:23:05.316534",
     "status": "completed"
    },
    "tags": []
   },
   "source": [
    "# DATA PREPROCESSİNG"
   ]
  },
  {
   "cell_type": "markdown",
   "id": "6eeca545",
   "metadata": {
    "papermill": {
     "duration": 0.023167,
     "end_time": "2023-05-08T08:23:05.389234",
     "exception": false,
     "start_time": "2023-05-08T08:23:05.366067",
     "status": "completed"
    },
    "tags": []
   },
   "source": [
    "Veri çerçevesinde hangi öznitelikte kaç adet eksik değer olduğuna bakalım"
   ]
  },
  {
   "cell_type": "code",
   "execution_count": 27,
   "id": "6287276a",
   "metadata": {
    "execution": {
     "iopub.execute_input": "2023-05-08T08:23:05.440070Z",
     "iopub.status.busy": "2023-05-08T08:23:05.439554Z",
     "iopub.status.idle": "2023-05-08T08:23:05.451807Z",
     "shell.execute_reply": "2023-05-08T08:23:05.450239Z"
    },
    "papermill": {
     "duration": 0.040449,
     "end_time": "2023-05-08T08:23:05.454422",
     "exception": false,
     "start_time": "2023-05-08T08:23:05.413973",
     "status": "completed"
    },
    "tags": []
   },
   "outputs": [
    {
     "data": {
      "text/plain": [
       "BataryaGucu             0\n",
       "Bluetooth               0\n",
       "MikroislemciHizi        0\n",
       "CiftHat                 0\n",
       "OnKameraMP              5\n",
       "4G                      0\n",
       "DahiliBellek            0\n",
       "Kalinlik                0\n",
       "Agirlik                 0\n",
       "CekirdekSayisi          0\n",
       "ArkaKameraMP            0\n",
       "CozunurlukYükseklik     0\n",
       "CozunurlukGenislik      0\n",
       "RAM                    12\n",
       "BataryaOmru             0\n",
       "3G                      0\n",
       "Dokunmatik              0\n",
       "WiFi                    0\n",
       "FiyatAraligi            0\n",
       "Renk                    0\n",
       "dtype: int64"
      ]
     },
     "execution_count": 27,
     "metadata": {},
     "output_type": "execute_result"
    }
   ],
   "source": [
    "df.isnull().sum()"
   ]
  },
  {
   "cell_type": "code",
   "execution_count": 28,
   "id": "f4622e57",
   "metadata": {
    "execution": {
     "iopub.execute_input": "2023-05-08T08:23:05.505987Z",
     "iopub.status.busy": "2023-05-08T08:23:05.505417Z",
     "iopub.status.idle": "2023-05-08T08:23:05.517526Z",
     "shell.execute_reply": "2023-05-08T08:23:05.516173Z"
    },
    "papermill": {
     "duration": 0.041617,
     "end_time": "2023-05-08T08:23:05.520022",
     "exception": false,
     "start_time": "2023-05-08T08:23:05.478405",
     "status": "completed"
    },
    "tags": []
   },
   "outputs": [
    {
     "data": {
      "text/plain": [
       "17"
      ]
     },
     "execution_count": 28,
     "metadata": {},
     "output_type": "execute_result"
    }
   ],
   "source": [
    "df.isnull().sum().sum()"
   ]
  },
  {
   "cell_type": "code",
   "execution_count": 29,
   "id": "bb3bb18b",
   "metadata": {
    "execution": {
     "iopub.execute_input": "2023-05-08T08:23:05.571423Z",
     "iopub.status.busy": "2023-05-08T08:23:05.570887Z",
     "iopub.status.idle": "2023-05-08T08:23:05.600406Z",
     "shell.execute_reply": "2023-05-08T08:23:05.598855Z"
    },
    "papermill": {
     "duration": 0.058427,
     "end_time": "2023-05-08T08:23:05.603364",
     "exception": false,
     "start_time": "2023-05-08T08:23:05.544937",
     "status": "completed"
    },
    "tags": []
   },
   "outputs": [
    {
     "data": {
      "text/html": [
       "<div>\n",
       "<style scoped>\n",
       "    .dataframe tbody tr th:only-of-type {\n",
       "        vertical-align: middle;\n",
       "    }\n",
       "\n",
       "    .dataframe tbody tr th {\n",
       "        vertical-align: top;\n",
       "    }\n",
       "\n",
       "    .dataframe thead th {\n",
       "        text-align: right;\n",
       "    }\n",
       "</style>\n",
       "<table border=\"1\" class=\"dataframe\">\n",
       "  <thead>\n",
       "    <tr style=\"text-align: right;\">\n",
       "      <th></th>\n",
       "      <th>BataryaGucu</th>\n",
       "      <th>Bluetooth</th>\n",
       "      <th>MikroislemciHizi</th>\n",
       "      <th>CiftHat</th>\n",
       "      <th>OnKameraMP</th>\n",
       "      <th>4G</th>\n",
       "      <th>DahiliBellek</th>\n",
       "      <th>Kalinlik</th>\n",
       "      <th>Agirlik</th>\n",
       "      <th>CekirdekSayisi</th>\n",
       "      <th>ArkaKameraMP</th>\n",
       "      <th>CozunurlukYükseklik</th>\n",
       "      <th>CozunurlukGenislik</th>\n",
       "      <th>RAM</th>\n",
       "      <th>BataryaOmru</th>\n",
       "      <th>3G</th>\n",
       "      <th>Dokunmatik</th>\n",
       "      <th>WiFi</th>\n",
       "      <th>FiyatAraligi</th>\n",
       "      <th>Renk</th>\n",
       "    </tr>\n",
       "  </thead>\n",
       "  <tbody>\n",
       "    <tr>\n",
       "      <th>87</th>\n",
       "      <td>1062</td>\n",
       "      <td>Var</td>\n",
       "      <td>2.5</td>\n",
       "      <td>Var</td>\n",
       "      <td>6.0</td>\n",
       "      <td>Yok</td>\n",
       "      <td>10</td>\n",
       "      <td>0.9</td>\n",
       "      <td>160</td>\n",
       "      <td>1</td>\n",
       "      <td>13</td>\n",
       "      <td>1596</td>\n",
       "      <td>1807</td>\n",
       "      <td>NaN</td>\n",
       "      <td>16</td>\n",
       "      <td>Yok</td>\n",
       "      <td>Yok</td>\n",
       "      <td>Var</td>\n",
       "      <td>Pahalı</td>\n",
       "      <td>Gri</td>\n",
       "    </tr>\n",
       "    <tr>\n",
       "      <th>169</th>\n",
       "      <td>1944</td>\n",
       "      <td>Var</td>\n",
       "      <td>1.8</td>\n",
       "      <td>Var</td>\n",
       "      <td>0.0</td>\n",
       "      <td>Var</td>\n",
       "      <td>31</td>\n",
       "      <td>0.8</td>\n",
       "      <td>87</td>\n",
       "      <td>4</td>\n",
       "      <td>10</td>\n",
       "      <td>1111</td>\n",
       "      <td>1362</td>\n",
       "      <td>NaN</td>\n",
       "      <td>8</td>\n",
       "      <td>Var</td>\n",
       "      <td>Yok</td>\n",
       "      <td>Yok</td>\n",
       "      <td>Pahalı</td>\n",
       "      <td>Beyaz</td>\n",
       "    </tr>\n",
       "    <tr>\n",
       "      <th>310</th>\n",
       "      <td>1479</td>\n",
       "      <td>Var</td>\n",
       "      <td>1.8</td>\n",
       "      <td>Var</td>\n",
       "      <td>0.0</td>\n",
       "      <td>Var</td>\n",
       "      <td>24</td>\n",
       "      <td>0.1</td>\n",
       "      <td>146</td>\n",
       "      <td>6</td>\n",
       "      <td>0</td>\n",
       "      <td>327</td>\n",
       "      <td>645</td>\n",
       "      <td>NaN</td>\n",
       "      <td>5</td>\n",
       "      <td>Var</td>\n",
       "      <td>Yok</td>\n",
       "      <td>Yok</td>\n",
       "      <td>Pahalı</td>\n",
       "      <td>Turuncu</td>\n",
       "    </tr>\n",
       "    <tr>\n",
       "      <th>329</th>\n",
       "      <td>1035</td>\n",
       "      <td>Yok</td>\n",
       "      <td>0.6</td>\n",
       "      <td>Var</td>\n",
       "      <td>2.0</td>\n",
       "      <td>Var</td>\n",
       "      <td>44</td>\n",
       "      <td>0.5</td>\n",
       "      <td>99</td>\n",
       "      <td>3</td>\n",
       "      <td>3</td>\n",
       "      <td>236</td>\n",
       "      <td>1960</td>\n",
       "      <td>NaN</td>\n",
       "      <td>12</td>\n",
       "      <td>Var</td>\n",
       "      <td>Var</td>\n",
       "      <td>Yok</td>\n",
       "      <td>Pahalı</td>\n",
       "      <td>Beyaz</td>\n",
       "    </tr>\n",
       "    <tr>\n",
       "      <th>658</th>\n",
       "      <td>732</td>\n",
       "      <td>Var</td>\n",
       "      <td>1.3</td>\n",
       "      <td>Yok</td>\n",
       "      <td>5.0</td>\n",
       "      <td>Var</td>\n",
       "      <td>32</td>\n",
       "      <td>0.4</td>\n",
       "      <td>163</td>\n",
       "      <td>8</td>\n",
       "      <td>7</td>\n",
       "      <td>1661</td>\n",
       "      <td>1836</td>\n",
       "      <td>NaN</td>\n",
       "      <td>5</td>\n",
       "      <td>Var</td>\n",
       "      <td>Yok</td>\n",
       "      <td>Var</td>\n",
       "      <td>Pahalı</td>\n",
       "      <td>Siyah</td>\n",
       "    </tr>\n",
       "    <tr>\n",
       "      <th>777</th>\n",
       "      <td>753</td>\n",
       "      <td>Var</td>\n",
       "      <td>0.5</td>\n",
       "      <td>Yok</td>\n",
       "      <td>11.0</td>\n",
       "      <td>Var</td>\n",
       "      <td>48</td>\n",
       "      <td>0.1</td>\n",
       "      <td>121</td>\n",
       "      <td>8</td>\n",
       "      <td>20</td>\n",
       "      <td>606</td>\n",
       "      <td>1316</td>\n",
       "      <td>NaN</td>\n",
       "      <td>16</td>\n",
       "      <td>Var</td>\n",
       "      <td>Yok</td>\n",
       "      <td>Yok</td>\n",
       "      <td>Pahalı</td>\n",
       "      <td>Turkuaz</td>\n",
       "    </tr>\n",
       "    <tr>\n",
       "      <th>871</th>\n",
       "      <td>1035</td>\n",
       "      <td>Var</td>\n",
       "      <td>2.7</td>\n",
       "      <td>Yok</td>\n",
       "      <td>1.0</td>\n",
       "      <td>Yok</td>\n",
       "      <td>40</td>\n",
       "      <td>0.2</td>\n",
       "      <td>157</td>\n",
       "      <td>5</td>\n",
       "      <td>15</td>\n",
       "      <td>757</td>\n",
       "      <td>1912</td>\n",
       "      <td>NaN</td>\n",
       "      <td>5</td>\n",
       "      <td>Yok</td>\n",
       "      <td>Var</td>\n",
       "      <td>Var</td>\n",
       "      <td>Pahalı</td>\n",
       "      <td>Turuncu</td>\n",
       "    </tr>\n",
       "    <tr>\n",
       "      <th>961</th>\n",
       "      <td>1949</td>\n",
       "      <td>Yok</td>\n",
       "      <td>1.3</td>\n",
       "      <td>Var</td>\n",
       "      <td>0.0</td>\n",
       "      <td>Yok</td>\n",
       "      <td>23</td>\n",
       "      <td>0.1</td>\n",
       "      <td>101</td>\n",
       "      <td>5</td>\n",
       "      <td>1</td>\n",
       "      <td>839</td>\n",
       "      <td>1136</td>\n",
       "      <td>NaN</td>\n",
       "      <td>20</td>\n",
       "      <td>Var</td>\n",
       "      <td>Yok</td>\n",
       "      <td>Yok</td>\n",
       "      <td>Pahalı</td>\n",
       "      <td>Sarı</td>\n",
       "    </tr>\n",
       "    <tr>\n",
       "      <th>965</th>\n",
       "      <td>1786</td>\n",
       "      <td>Yok</td>\n",
       "      <td>1.2</td>\n",
       "      <td>Yok</td>\n",
       "      <td>11.0</td>\n",
       "      <td>Yok</td>\n",
       "      <td>61</td>\n",
       "      <td>0.1</td>\n",
       "      <td>123</td>\n",
       "      <td>3</td>\n",
       "      <td>14</td>\n",
       "      <td>74</td>\n",
       "      <td>865</td>\n",
       "      <td>NaN</td>\n",
       "      <td>17</td>\n",
       "      <td>Yok</td>\n",
       "      <td>Var</td>\n",
       "      <td>Yok</td>\n",
       "      <td>Pahalı</td>\n",
       "      <td>Kahverengi</td>\n",
       "    </tr>\n",
       "    <tr>\n",
       "      <th>1180</th>\n",
       "      <td>1369</td>\n",
       "      <td>Var</td>\n",
       "      <td>1.8</td>\n",
       "      <td>Var</td>\n",
       "      <td>6.0</td>\n",
       "      <td>Yok</td>\n",
       "      <td>34</td>\n",
       "      <td>0.5</td>\n",
       "      <td>162</td>\n",
       "      <td>1</td>\n",
       "      <td>7</td>\n",
       "      <td>553</td>\n",
       "      <td>727</td>\n",
       "      <td>NaN</td>\n",
       "      <td>18</td>\n",
       "      <td>Yok</td>\n",
       "      <td>Var</td>\n",
       "      <td>Var</td>\n",
       "      <td>Pahalı</td>\n",
       "      <td>Turuncu</td>\n",
       "    </tr>\n",
       "    <tr>\n",
       "      <th>1779</th>\n",
       "      <td>1701</td>\n",
       "      <td>Var</td>\n",
       "      <td>0.5</td>\n",
       "      <td>Yok</td>\n",
       "      <td>13.0</td>\n",
       "      <td>Var</td>\n",
       "      <td>46</td>\n",
       "      <td>0.9</td>\n",
       "      <td>115</td>\n",
       "      <td>2</td>\n",
       "      <td>15</td>\n",
       "      <td>364</td>\n",
       "      <td>828</td>\n",
       "      <td>NaN</td>\n",
       "      <td>10</td>\n",
       "      <td>Var</td>\n",
       "      <td>Var</td>\n",
       "      <td>Yok</td>\n",
       "      <td>Pahalı</td>\n",
       "      <td>Yeşil</td>\n",
       "    </tr>\n",
       "    <tr>\n",
       "      <th>1804</th>\n",
       "      <td>1370</td>\n",
       "      <td>Yok</td>\n",
       "      <td>1.4</td>\n",
       "      <td>Yok</td>\n",
       "      <td>5.0</td>\n",
       "      <td>Var</td>\n",
       "      <td>6</td>\n",
       "      <td>0.2</td>\n",
       "      <td>158</td>\n",
       "      <td>6</td>\n",
       "      <td>8</td>\n",
       "      <td>1392</td>\n",
       "      <td>1783</td>\n",
       "      <td>NaN</td>\n",
       "      <td>11</td>\n",
       "      <td>Var</td>\n",
       "      <td>Var</td>\n",
       "      <td>Yok</td>\n",
       "      <td>Pahalı</td>\n",
       "      <td>Turkuaz</td>\n",
       "    </tr>\n",
       "  </tbody>\n",
       "</table>\n",
       "</div>"
      ],
      "text/plain": [
       "      BataryaGucu Bluetooth  MikroislemciHizi CiftHat  OnKameraMP   4G  \\\n",
       "87           1062       Var               2.5     Var         6.0  Yok   \n",
       "169          1944       Var               1.8     Var         0.0  Var   \n",
       "310          1479       Var               1.8     Var         0.0  Var   \n",
       "329          1035       Yok               0.6     Var         2.0  Var   \n",
       "658           732       Var               1.3     Yok         5.0  Var   \n",
       "777           753       Var               0.5     Yok        11.0  Var   \n",
       "871          1035       Var               2.7     Yok         1.0  Yok   \n",
       "961          1949       Yok               1.3     Var         0.0  Yok   \n",
       "965          1786       Yok               1.2     Yok        11.0  Yok   \n",
       "1180         1369       Var               1.8     Var         6.0  Yok   \n",
       "1779         1701       Var               0.5     Yok        13.0  Var   \n",
       "1804         1370       Yok               1.4     Yok         5.0  Var   \n",
       "\n",
       "      DahiliBellek  Kalinlik  Agirlik  CekirdekSayisi  ArkaKameraMP  \\\n",
       "87              10       0.9      160               1            13   \n",
       "169             31       0.8       87               4            10   \n",
       "310             24       0.1      146               6             0   \n",
       "329             44       0.5       99               3             3   \n",
       "658             32       0.4      163               8             7   \n",
       "777             48       0.1      121               8            20   \n",
       "871             40       0.2      157               5            15   \n",
       "961             23       0.1      101               5             1   \n",
       "965             61       0.1      123               3            14   \n",
       "1180            34       0.5      162               1             7   \n",
       "1779            46       0.9      115               2            15   \n",
       "1804             6       0.2      158               6             8   \n",
       "\n",
       "      CozunurlukYükseklik  CozunurlukGenislik  RAM  BataryaOmru   3G  \\\n",
       "87                   1596                1807  NaN           16  Yok   \n",
       "169                  1111                1362  NaN            8  Var   \n",
       "310                   327                 645  NaN            5  Var   \n",
       "329                   236                1960  NaN           12  Var   \n",
       "658                  1661                1836  NaN            5  Var   \n",
       "777                   606                1316  NaN           16  Var   \n",
       "871                   757                1912  NaN            5  Yok   \n",
       "961                   839                1136  NaN           20  Var   \n",
       "965                    74                 865  NaN           17  Yok   \n",
       "1180                  553                 727  NaN           18  Yok   \n",
       "1779                  364                 828  NaN           10  Var   \n",
       "1804                 1392                1783  NaN           11  Var   \n",
       "\n",
       "     Dokunmatik WiFi FiyatAraligi        Renk  \n",
       "87          Yok  Var       Pahalı         Gri  \n",
       "169         Yok  Yok       Pahalı       Beyaz  \n",
       "310         Yok  Yok       Pahalı     Turuncu  \n",
       "329         Var  Yok       Pahalı       Beyaz  \n",
       "658         Yok  Var       Pahalı       Siyah  \n",
       "777         Yok  Yok       Pahalı     Turkuaz  \n",
       "871         Var  Var       Pahalı     Turuncu  \n",
       "961         Yok  Yok       Pahalı        Sarı  \n",
       "965         Var  Yok       Pahalı  Kahverengi  \n",
       "1180        Var  Var       Pahalı     Turuncu  \n",
       "1779        Var  Yok       Pahalı       Yeşil  \n",
       "1804        Var  Yok       Pahalı     Turkuaz  "
      ]
     },
     "execution_count": 29,
     "metadata": {},
     "output_type": "execute_result"
    }
   ],
   "source": [
    "df[df[\"RAM\"].isnull()] # RAM özniteliğinde 12 adet eksik veri var. Şimdi bunları inceleyelim"
   ]
  },
  {
   "cell_type": "markdown",
   "id": "13259eda",
   "metadata": {
    "papermill": {
     "duration": 0.024984,
     "end_time": "2023-05-08T08:23:05.653541",
     "exception": false,
     "start_time": "2023-05-08T08:23:05.628557",
     "status": "completed"
    },
    "tags": []
   },
   "source": [
    "RAM özniteliği sadece hedef özniteliğimiz olan FiyatAraligi özniteliğinin pahalı olduğu gözlemlerde eksik değere sahiptir"
   ]
  },
  {
   "cell_type": "markdown",
   "id": "fad8af29",
   "metadata": {
    "papermill": {
     "duration": 0.025398,
     "end_time": "2023-05-08T08:23:05.705536",
     "exception": false,
     "start_time": "2023-05-08T08:23:05.680138",
     "status": "completed"
    },
    "tags": []
   },
   "source": [
    "Şimdi ise bu değerleri FiyatAraligi özniteliğinin pahalı olduğu gözlemlerdeki RAM özniteliğinin ortalama değerini bir değişkene atayacağız ve RAM özniteliğinin eksik değerlerini meanRam değişkeninin değeriyle dolduracağız."
   ]
  },
  {
   "cell_type": "code",
   "execution_count": 30,
   "id": "88c7f346",
   "metadata": {
    "execution": {
     "iopub.execute_input": "2023-05-08T08:23:05.759430Z",
     "iopub.status.busy": "2023-05-08T08:23:05.758943Z",
     "iopub.status.idle": "2023-05-08T08:23:05.771437Z",
     "shell.execute_reply": "2023-05-08T08:23:05.770116Z"
    },
    "papermill": {
     "duration": 0.043424,
     "end_time": "2023-05-08T08:23:05.774373",
     "exception": false,
     "start_time": "2023-05-08T08:23:05.730949",
     "status": "completed"
    },
    "tags": []
   },
   "outputs": [],
   "source": [
    "meanRam = df[df[\"FiyatAraligi\"]=='Pahalı'].mean()['RAM']\n",
    "df['RAM'].fillna(meanRam, inplace=True)"
   ]
  },
  {
   "cell_type": "markdown",
   "id": "34b4464d",
   "metadata": {
    "papermill": {
     "duration": 0.025039,
     "end_time": "2023-05-08T08:23:05.824648",
     "exception": false,
     "start_time": "2023-05-08T08:23:05.799609",
     "status": "completed"
    },
    "tags": []
   },
   "source": [
    "Eksik değere sahip olan OnKameraMP özniteliğinin eksik değerlerini ayrıntılı bir biçimde inceleyelim"
   ]
  },
  {
   "cell_type": "code",
   "execution_count": 31,
   "id": "25c0cfca",
   "metadata": {
    "execution": {
     "iopub.execute_input": "2023-05-08T08:23:05.877316Z",
     "iopub.status.busy": "2023-05-08T08:23:05.876731Z",
     "iopub.status.idle": "2023-05-08T08:23:05.901449Z",
     "shell.execute_reply": "2023-05-08T08:23:05.900102Z"
    },
    "papermill": {
     "duration": 0.054499,
     "end_time": "2023-05-08T08:23:05.904304",
     "exception": false,
     "start_time": "2023-05-08T08:23:05.849805",
     "status": "completed"
    },
    "tags": []
   },
   "outputs": [
    {
     "data": {
      "text/html": [
       "<div>\n",
       "<style scoped>\n",
       "    .dataframe tbody tr th:only-of-type {\n",
       "        vertical-align: middle;\n",
       "    }\n",
       "\n",
       "    .dataframe tbody tr th {\n",
       "        vertical-align: top;\n",
       "    }\n",
       "\n",
       "    .dataframe thead th {\n",
       "        text-align: right;\n",
       "    }\n",
       "</style>\n",
       "<table border=\"1\" class=\"dataframe\">\n",
       "  <thead>\n",
       "    <tr style=\"text-align: right;\">\n",
       "      <th></th>\n",
       "      <th>BataryaGucu</th>\n",
       "      <th>Bluetooth</th>\n",
       "      <th>MikroislemciHizi</th>\n",
       "      <th>CiftHat</th>\n",
       "      <th>OnKameraMP</th>\n",
       "      <th>4G</th>\n",
       "      <th>DahiliBellek</th>\n",
       "      <th>Kalinlik</th>\n",
       "      <th>Agirlik</th>\n",
       "      <th>CekirdekSayisi</th>\n",
       "      <th>ArkaKameraMP</th>\n",
       "      <th>CozunurlukYükseklik</th>\n",
       "      <th>CozunurlukGenislik</th>\n",
       "      <th>RAM</th>\n",
       "      <th>BataryaOmru</th>\n",
       "      <th>3G</th>\n",
       "      <th>Dokunmatik</th>\n",
       "      <th>WiFi</th>\n",
       "      <th>FiyatAraligi</th>\n",
       "      <th>Renk</th>\n",
       "    </tr>\n",
       "  </thead>\n",
       "  <tbody>\n",
       "    <tr>\n",
       "      <th>351</th>\n",
       "      <td>726</td>\n",
       "      <td>Yok</td>\n",
       "      <td>2.2</td>\n",
       "      <td>Yok</td>\n",
       "      <td>NaN</td>\n",
       "      <td>Var</td>\n",
       "      <td>40</td>\n",
       "      <td>0.8</td>\n",
       "      <td>94</td>\n",
       "      <td>4</td>\n",
       "      <td>20</td>\n",
       "      <td>323</td>\n",
       "      <td>978</td>\n",
       "      <td>1342.0</td>\n",
       "      <td>4</td>\n",
       "      <td>Var</td>\n",
       "      <td>Var</td>\n",
       "      <td>Var</td>\n",
       "      <td>Çok Ucuz</td>\n",
       "      <td>Beyaz</td>\n",
       "    </tr>\n",
       "    <tr>\n",
       "      <th>726</th>\n",
       "      <td>1296</td>\n",
       "      <td>Yok</td>\n",
       "      <td>0.9</td>\n",
       "      <td>Var</td>\n",
       "      <td>NaN</td>\n",
       "      <td>Var</td>\n",
       "      <td>14</td>\n",
       "      <td>0.5</td>\n",
       "      <td>124</td>\n",
       "      <td>5</td>\n",
       "      <td>3</td>\n",
       "      <td>811</td>\n",
       "      <td>1272</td>\n",
       "      <td>490.0</td>\n",
       "      <td>4</td>\n",
       "      <td>Var</td>\n",
       "      <td>Var</td>\n",
       "      <td>Var</td>\n",
       "      <td>Çok Ucuz</td>\n",
       "      <td>Sarı</td>\n",
       "    </tr>\n",
       "    <tr>\n",
       "      <th>792</th>\n",
       "      <td>504</td>\n",
       "      <td>Yok</td>\n",
       "      <td>2.8</td>\n",
       "      <td>Var</td>\n",
       "      <td>NaN</td>\n",
       "      <td>Yok</td>\n",
       "      <td>40</td>\n",
       "      <td>0.5</td>\n",
       "      <td>178</td>\n",
       "      <td>3</td>\n",
       "      <td>0</td>\n",
       "      <td>626</td>\n",
       "      <td>1195</td>\n",
       "      <td>470.0</td>\n",
       "      <td>16</td>\n",
       "      <td>Var</td>\n",
       "      <td>Yok</td>\n",
       "      <td>Yok</td>\n",
       "      <td>Çok Ucuz</td>\n",
       "      <td>Siyah</td>\n",
       "    </tr>\n",
       "    <tr>\n",
       "      <th>1416</th>\n",
       "      <td>1617</td>\n",
       "      <td>Var</td>\n",
       "      <td>2.4</td>\n",
       "      <td>Yok</td>\n",
       "      <td>NaN</td>\n",
       "      <td>Var</td>\n",
       "      <td>36</td>\n",
       "      <td>0.8</td>\n",
       "      <td>85</td>\n",
       "      <td>1</td>\n",
       "      <td>9</td>\n",
       "      <td>743</td>\n",
       "      <td>1426</td>\n",
       "      <td>296.0</td>\n",
       "      <td>7</td>\n",
       "      <td>Var</td>\n",
       "      <td>Yok</td>\n",
       "      <td>Yok</td>\n",
       "      <td>Çok Ucuz</td>\n",
       "      <td>Sarı</td>\n",
       "    </tr>\n",
       "    <tr>\n",
       "      <th>1641</th>\n",
       "      <td>763</td>\n",
       "      <td>Yok</td>\n",
       "      <td>1.7</td>\n",
       "      <td>Var</td>\n",
       "      <td>NaN</td>\n",
       "      <td>Var</td>\n",
       "      <td>2</td>\n",
       "      <td>0.5</td>\n",
       "      <td>92</td>\n",
       "      <td>8</td>\n",
       "      <td>14</td>\n",
       "      <td>1028</td>\n",
       "      <td>1186</td>\n",
       "      <td>1050.0</td>\n",
       "      <td>8</td>\n",
       "      <td>Var</td>\n",
       "      <td>Var</td>\n",
       "      <td>Yok</td>\n",
       "      <td>Çok Ucuz</td>\n",
       "      <td>Siyah</td>\n",
       "    </tr>\n",
       "  </tbody>\n",
       "</table>\n",
       "</div>"
      ],
      "text/plain": [
       "      BataryaGucu Bluetooth  MikroislemciHizi CiftHat  OnKameraMP   4G  \\\n",
       "351           726       Yok               2.2     Yok         NaN  Var   \n",
       "726          1296       Yok               0.9     Var         NaN  Var   \n",
       "792           504       Yok               2.8     Var         NaN  Yok   \n",
       "1416         1617       Var               2.4     Yok         NaN  Var   \n",
       "1641          763       Yok               1.7     Var         NaN  Var   \n",
       "\n",
       "      DahiliBellek  Kalinlik  Agirlik  CekirdekSayisi  ArkaKameraMP  \\\n",
       "351             40       0.8       94               4            20   \n",
       "726             14       0.5      124               5             3   \n",
       "792             40       0.5      178               3             0   \n",
       "1416            36       0.8       85               1             9   \n",
       "1641             2       0.5       92               8            14   \n",
       "\n",
       "      CozunurlukYükseklik  CozunurlukGenislik     RAM  BataryaOmru   3G  \\\n",
       "351                   323                 978  1342.0            4  Var   \n",
       "726                   811                1272   490.0            4  Var   \n",
       "792                   626                1195   470.0           16  Var   \n",
       "1416                  743                1426   296.0            7  Var   \n",
       "1641                 1028                1186  1050.0            8  Var   \n",
       "\n",
       "     Dokunmatik WiFi FiyatAraligi   Renk  \n",
       "351         Var  Var     Çok Ucuz  Beyaz  \n",
       "726         Var  Var     Çok Ucuz   Sarı  \n",
       "792         Yok  Yok     Çok Ucuz  Siyah  \n",
       "1416        Yok  Yok     Çok Ucuz   Sarı  \n",
       "1641        Var  Yok     Çok Ucuz  Siyah  "
      ]
     },
     "execution_count": 31,
     "metadata": {},
     "output_type": "execute_result"
    }
   ],
   "source": [
    "df[df['OnKameraMP'].isnull()]"
   ]
  },
  {
   "cell_type": "markdown",
   "id": "06bb78a8",
   "metadata": {
    "papermill": {
     "duration": 0.025544,
     "end_time": "2023-05-08T08:23:05.956327",
     "exception": false,
     "start_time": "2023-05-08T08:23:05.930783",
     "status": "completed"
    },
    "tags": []
   },
   "source": [
    "OnKameraMP özniteliği sadece hedef özniteliğimiz olan FiyatAraligi özniteliğinin çok ucuz olduğu gözlemlerde eksik değere sahiptir"
   ]
  },
  {
   "cell_type": "markdown",
   "id": "47f44f3d",
   "metadata": {
    "papermill": {
     "duration": 0.027933,
     "end_time": "2023-05-08T08:23:06.010774",
     "exception": false,
     "start_time": "2023-05-08T08:23:05.982841",
     "status": "completed"
    },
    "tags": []
   },
   "source": [
    "Bu değerleri FiyatAraligi özniteliğinin çok ucuz olduğu gözlemlerdeki OnKameraMP özniteliğinin ortalama değerini bir değişkene atayacağız ve OnKameraMP özniteliğinin eksik değerlerini meanOnKamera değişkeninin değeriyle dolduracağız."
   ]
  },
  {
   "cell_type": "code",
   "execution_count": 32,
   "id": "ce400975",
   "metadata": {
    "execution": {
     "iopub.execute_input": "2023-05-08T08:23:06.066417Z",
     "iopub.status.busy": "2023-05-08T08:23:06.065478Z",
     "iopub.status.idle": "2023-05-08T08:23:06.078021Z",
     "shell.execute_reply": "2023-05-08T08:23:06.076984Z"
    },
    "papermill": {
     "duration": 0.044412,
     "end_time": "2023-05-08T08:23:06.080991",
     "exception": false,
     "start_time": "2023-05-08T08:23:06.036579",
     "status": "completed"
    },
    "tags": []
   },
   "outputs": [],
   "source": [
    "meanOnKamera = df[df[\"FiyatAraligi\"]=='Çok Ucuz'].mean()['OnKameraMP']\n",
    "df[\"OnKameraMP\"].fillna(meanOnKamera, inplace=True)"
   ]
  },
  {
   "cell_type": "code",
   "execution_count": 33,
   "id": "eebcdd6d",
   "metadata": {
    "execution": {
     "iopub.execute_input": "2023-05-08T08:23:06.134426Z",
     "iopub.status.busy": "2023-05-08T08:23:06.133580Z",
     "iopub.status.idle": "2023-05-08T08:23:06.145274Z",
     "shell.execute_reply": "2023-05-08T08:23:06.143938Z"
    },
    "papermill": {
     "duration": 0.04196,
     "end_time": "2023-05-08T08:23:06.148027",
     "exception": false,
     "start_time": "2023-05-08T08:23:06.106067",
     "status": "completed"
    },
    "tags": []
   },
   "outputs": [
    {
     "data": {
      "text/plain": [
       "0"
      ]
     },
     "execution_count": 33,
     "metadata": {},
     "output_type": "execute_result"
    }
   ],
   "source": [
    "df.isnull().sum().sum() # Artık eksik veri yok"
   ]
  },
  {
   "cell_type": "code",
   "execution_count": 34,
   "id": "a54ae501",
   "metadata": {
    "execution": {
     "iopub.execute_input": "2023-05-08T08:23:06.201596Z",
     "iopub.status.busy": "2023-05-08T08:23:06.200611Z",
     "iopub.status.idle": "2023-05-08T08:23:06.209223Z",
     "shell.execute_reply": "2023-05-08T08:23:06.207898Z"
    },
    "papermill": {
     "duration": 0.038952,
     "end_time": "2023-05-08T08:23:06.212226",
     "exception": false,
     "start_time": "2023-05-08T08:23:06.173274",
     "status": "completed"
    },
    "tags": []
   },
   "outputs": [],
   "source": [
    "df.drop(\"Renk\", axis=1, inplace=True)"
   ]
  },
  {
   "cell_type": "markdown",
   "id": "0947450f",
   "metadata": {
    "papermill": {
     "duration": 0.025438,
     "end_time": "2023-05-08T08:23:06.263177",
     "exception": false,
     "start_time": "2023-05-08T08:23:06.237739",
     "status": "completed"
    },
    "tags": []
   },
   "source": [
    "Kategorik değişkenlerin sıralanabilir(ordered) veya sıralanamaz(nominal) olma durumlarına göre uygun sayısallaştırma işlemleri yapalım"
   ]
  },
  {
   "cell_type": "code",
   "execution_count": 35,
   "id": "f6d0e3f8",
   "metadata": {
    "execution": {
     "iopub.execute_input": "2023-05-08T08:23:06.317127Z",
     "iopub.status.busy": "2023-05-08T08:23:06.316570Z",
     "iopub.status.idle": "2023-05-08T08:23:06.493113Z",
     "shell.execute_reply": "2023-05-08T08:23:06.491723Z"
    },
    "papermill": {
     "duration": 0.207716,
     "end_time": "2023-05-08T08:23:06.496479",
     "exception": false,
     "start_time": "2023-05-08T08:23:06.288763",
     "status": "completed"
    },
    "tags": []
   },
   "outputs": [],
   "source": [
    "from sklearn import preprocessing\n",
    "LabelEncoder = preprocessing.LabelEncoder()"
   ]
  },
  {
   "cell_type": "markdown",
   "id": "a791c1e1",
   "metadata": {
    "papermill": {
     "duration": 0.025417,
     "end_time": "2023-05-08T08:23:06.547791",
     "exception": false,
     "start_time": "2023-05-08T08:23:06.522374",
     "status": "completed"
    },
    "tags": []
   },
   "source": [
    "LabelEncoder kullanmamızın sebebi bu değişkenlerde sıralama işleminin uygulanamamasıdır."
   ]
  },
  {
   "cell_type": "code",
   "execution_count": 36,
   "id": "82cbb8a4",
   "metadata": {
    "execution": {
     "iopub.execute_input": "2023-05-08T08:23:06.601991Z",
     "iopub.status.busy": "2023-05-08T08:23:06.601460Z",
     "iopub.status.idle": "2023-05-08T08:23:06.618469Z",
     "shell.execute_reply": "2023-05-08T08:23:06.616865Z"
    },
    "papermill": {
     "duration": 0.048049,
     "end_time": "2023-05-08T08:23:06.621633",
     "exception": false,
     "start_time": "2023-05-08T08:23:06.573584",
     "status": "completed"
    },
    "tags": []
   },
   "outputs": [],
   "source": [
    "df[\"WiFi\"] = LabelEncoder.fit_transform(df[\"WiFi\"])\n",
    "df[\"3G\"] = LabelEncoder.fit_transform(df[\"3G\"])\n",
    "df[\"Dokunmatik\"] = LabelEncoder.fit_transform(df[\"Dokunmatik\"])\n",
    "df[\"Bluetooth\"] = LabelEncoder.fit_transform(df[\"Bluetooth\"])\n",
    "df[\"CiftHat\"] = LabelEncoder.fit_transform(df[\"CiftHat\"])\n",
    "df[\"4G\"] = LabelEncoder.fit_transform(df[\"4G\"])\n",
    "df[\"FiyatAraligi\"] = LabelEncoder.fit_transform(df[\"FiyatAraligi\"])"
   ]
  },
  {
   "cell_type": "code",
   "execution_count": 37,
   "id": "df757141",
   "metadata": {
    "execution": {
     "iopub.execute_input": "2023-05-08T08:23:06.677889Z",
     "iopub.status.busy": "2023-05-08T08:23:06.677264Z",
     "iopub.status.idle": "2023-05-08T08:23:06.699769Z",
     "shell.execute_reply": "2023-05-08T08:23:06.698256Z"
    },
    "papermill": {
     "duration": 0.055318,
     "end_time": "2023-05-08T08:23:06.703124",
     "exception": false,
     "start_time": "2023-05-08T08:23:06.647806",
     "status": "completed"
    },
    "tags": []
   },
   "outputs": [
    {
     "name": "stdout",
     "output_type": "stream",
     "text": [
      "<class 'pandas.core.frame.DataFrame'>\n",
      "RangeIndex: 2000 entries, 0 to 1999\n",
      "Data columns (total 19 columns):\n",
      " #   Column               Non-Null Count  Dtype  \n",
      "---  ------               --------------  -----  \n",
      " 0   BataryaGucu          2000 non-null   int64  \n",
      " 1   Bluetooth            2000 non-null   int64  \n",
      " 2   MikroislemciHizi     2000 non-null   float64\n",
      " 3   CiftHat              2000 non-null   int64  \n",
      " 4   OnKameraMP           2000 non-null   float64\n",
      " 5   4G                   2000 non-null   int64  \n",
      " 6   DahiliBellek         2000 non-null   int64  \n",
      " 7   Kalinlik             2000 non-null   float64\n",
      " 8   Agirlik              2000 non-null   int64  \n",
      " 9   CekirdekSayisi       2000 non-null   int64  \n",
      " 10  ArkaKameraMP         2000 non-null   int64  \n",
      " 11  CozunurlukYükseklik  2000 non-null   int64  \n",
      " 12  CozunurlukGenislik   2000 non-null   int64  \n",
      " 13  RAM                  2000 non-null   float64\n",
      " 14  BataryaOmru          2000 non-null   int64  \n",
      " 15  3G                   2000 non-null   int64  \n",
      " 16  Dokunmatik           2000 non-null   int64  \n",
      " 17  WiFi                 2000 non-null   int64  \n",
      " 18  FiyatAraligi         2000 non-null   int64  \n",
      "dtypes: float64(4), int64(15)\n",
      "memory usage: 297.0 KB\n"
     ]
    }
   ],
   "source": [
    "df.info()"
   ]
  },
  {
   "cell_type": "code",
   "execution_count": 38,
   "id": "abd828de",
   "metadata": {
    "execution": {
     "iopub.execute_input": "2023-05-08T08:23:06.759153Z",
     "iopub.status.busy": "2023-05-08T08:23:06.758564Z",
     "iopub.status.idle": "2023-05-08T08:23:06.781215Z",
     "shell.execute_reply": "2023-05-08T08:23:06.779640Z"
    },
    "papermill": {
     "duration": 0.054231,
     "end_time": "2023-05-08T08:23:06.784192",
     "exception": false,
     "start_time": "2023-05-08T08:23:06.729961",
     "status": "completed"
    },
    "tags": []
   },
   "outputs": [
    {
     "data": {
      "text/html": [
       "<div>\n",
       "<style scoped>\n",
       "    .dataframe tbody tr th:only-of-type {\n",
       "        vertical-align: middle;\n",
       "    }\n",
       "\n",
       "    .dataframe tbody tr th {\n",
       "        vertical-align: top;\n",
       "    }\n",
       "\n",
       "    .dataframe thead th {\n",
       "        text-align: right;\n",
       "    }\n",
       "</style>\n",
       "<table border=\"1\" class=\"dataframe\">\n",
       "  <thead>\n",
       "    <tr style=\"text-align: right;\">\n",
       "      <th></th>\n",
       "      <th>BataryaGucu</th>\n",
       "      <th>Bluetooth</th>\n",
       "      <th>MikroislemciHizi</th>\n",
       "      <th>CiftHat</th>\n",
       "      <th>OnKameraMP</th>\n",
       "      <th>4G</th>\n",
       "      <th>DahiliBellek</th>\n",
       "      <th>Kalinlik</th>\n",
       "      <th>Agirlik</th>\n",
       "      <th>CekirdekSayisi</th>\n",
       "      <th>ArkaKameraMP</th>\n",
       "      <th>CozunurlukYükseklik</th>\n",
       "      <th>CozunurlukGenislik</th>\n",
       "      <th>RAM</th>\n",
       "      <th>BataryaOmru</th>\n",
       "      <th>3G</th>\n",
       "      <th>Dokunmatik</th>\n",
       "      <th>WiFi</th>\n",
       "      <th>FiyatAraligi</th>\n",
       "    </tr>\n",
       "  </thead>\n",
       "  <tbody>\n",
       "    <tr>\n",
       "      <th>0</th>\n",
       "      <td>1325</td>\n",
       "      <td>1</td>\n",
       "      <td>1.9</td>\n",
       "      <td>1</td>\n",
       "      <td>2.0</td>\n",
       "      <td>1</td>\n",
       "      <td>50</td>\n",
       "      <td>0.1</td>\n",
       "      <td>146</td>\n",
       "      <td>1</td>\n",
       "      <td>10</td>\n",
       "      <td>499</td>\n",
       "      <td>695</td>\n",
       "      <td>2328.0</td>\n",
       "      <td>2</td>\n",
       "      <td>0</td>\n",
       "      <td>1</td>\n",
       "      <td>1</td>\n",
       "      <td>0</td>\n",
       "    </tr>\n",
       "    <tr>\n",
       "      <th>1</th>\n",
       "      <td>1046</td>\n",
       "      <td>0</td>\n",
       "      <td>2.8</td>\n",
       "      <td>0</td>\n",
       "      <td>0.0</td>\n",
       "      <td>0</td>\n",
       "      <td>58</td>\n",
       "      <td>0.2</td>\n",
       "      <td>100</td>\n",
       "      <td>8</td>\n",
       "      <td>0</td>\n",
       "      <td>259</td>\n",
       "      <td>1040</td>\n",
       "      <td>3863.0</td>\n",
       "      <td>9</td>\n",
       "      <td>0</td>\n",
       "      <td>0</td>\n",
       "      <td>0</td>\n",
       "      <td>1</td>\n",
       "    </tr>\n",
       "    <tr>\n",
       "      <th>2</th>\n",
       "      <td>843</td>\n",
       "      <td>1</td>\n",
       "      <td>1.3</td>\n",
       "      <td>0</td>\n",
       "      <td>1.0</td>\n",
       "      <td>1</td>\n",
       "      <td>16</td>\n",
       "      <td>0.9</td>\n",
       "      <td>119</td>\n",
       "      <td>7</td>\n",
       "      <td>4</td>\n",
       "      <td>593</td>\n",
       "      <td>732</td>\n",
       "      <td>1734.0</td>\n",
       "      <td>14</td>\n",
       "      <td>1</td>\n",
       "      <td>1</td>\n",
       "      <td>0</td>\n",
       "      <td>2</td>\n",
       "    </tr>\n",
       "    <tr>\n",
       "      <th>3</th>\n",
       "      <td>894</td>\n",
       "      <td>1</td>\n",
       "      <td>0.5</td>\n",
       "      <td>0</td>\n",
       "      <td>1.0</td>\n",
       "      <td>0</td>\n",
       "      <td>50</td>\n",
       "      <td>0.5</td>\n",
       "      <td>199</td>\n",
       "      <td>3</td>\n",
       "      <td>14</td>\n",
       "      <td>1285</td>\n",
       "      <td>1462</td>\n",
       "      <td>3615.0</td>\n",
       "      <td>6</td>\n",
       "      <td>0</td>\n",
       "      <td>1</td>\n",
       "      <td>0</td>\n",
       "      <td>1</td>\n",
       "    </tr>\n",
       "    <tr>\n",
       "      <th>4</th>\n",
       "      <td>936</td>\n",
       "      <td>1</td>\n",
       "      <td>1.0</td>\n",
       "      <td>1</td>\n",
       "      <td>1.0</td>\n",
       "      <td>1</td>\n",
       "      <td>18</td>\n",
       "      <td>0.2</td>\n",
       "      <td>153</td>\n",
       "      <td>3</td>\n",
       "      <td>18</td>\n",
       "      <td>1330</td>\n",
       "      <td>1686</td>\n",
       "      <td>2391.0</td>\n",
       "      <td>3</td>\n",
       "      <td>0</td>\n",
       "      <td>0</td>\n",
       "      <td>0</td>\n",
       "      <td>0</td>\n",
       "    </tr>\n",
       "  </tbody>\n",
       "</table>\n",
       "</div>"
      ],
      "text/plain": [
       "   BataryaGucu  Bluetooth  MikroislemciHizi  CiftHat  OnKameraMP  4G  \\\n",
       "0         1325          1               1.9        1         2.0   1   \n",
       "1         1046          0               2.8        0         0.0   0   \n",
       "2          843          1               1.3        0         1.0   1   \n",
       "3          894          1               0.5        0         1.0   0   \n",
       "4          936          1               1.0        1         1.0   1   \n",
       "\n",
       "   DahiliBellek  Kalinlik  Agirlik  CekirdekSayisi  ArkaKameraMP  \\\n",
       "0            50       0.1      146               1            10   \n",
       "1            58       0.2      100               8             0   \n",
       "2            16       0.9      119               7             4   \n",
       "3            50       0.5      199               3            14   \n",
       "4            18       0.2      153               3            18   \n",
       "\n",
       "   CozunurlukYükseklik  CozunurlukGenislik     RAM  BataryaOmru  3G  \\\n",
       "0                  499                 695  2328.0            2   0   \n",
       "1                  259                1040  3863.0            9   0   \n",
       "2                  593                 732  1734.0           14   1   \n",
       "3                 1285                1462  3615.0            6   0   \n",
       "4                 1330                1686  2391.0            3   0   \n",
       "\n",
       "   Dokunmatik  WiFi  FiyatAraligi  \n",
       "0           1     1             0  \n",
       "1           0     0             1  \n",
       "2           1     0             2  \n",
       "3           1     0             1  \n",
       "4           0     0             0  "
      ]
     },
     "execution_count": 38,
     "metadata": {},
     "output_type": "execute_result"
    }
   ],
   "source": [
    "df.head()"
   ]
  },
  {
   "cell_type": "markdown",
   "id": "35a4a756",
   "metadata": {
    "papermill": {
     "duration": 0.025576,
     "end_time": "2023-05-08T08:23:06.836420",
     "exception": false,
     "start_time": "2023-05-08T08:23:06.810844",
     "status": "completed"
    },
    "tags": []
   },
   "source": [
    "Tüm kategorik değişkenlerimiz sayısallaştırılmıştır ve artık makine öğrenmesi modellerine uygun hale getirilmiştir"
   ]
  },
  {
   "cell_type": "code",
   "execution_count": 39,
   "id": "cbe20fa3",
   "metadata": {
    "execution": {
     "iopub.execute_input": "2023-05-08T08:23:06.891153Z",
     "iopub.status.busy": "2023-05-08T08:23:06.890520Z",
     "iopub.status.idle": "2023-05-08T08:23:06.913705Z",
     "shell.execute_reply": "2023-05-08T08:23:06.912268Z"
    },
    "papermill": {
     "duration": 0.055108,
     "end_time": "2023-05-08T08:23:06.917447",
     "exception": false,
     "start_time": "2023-05-08T08:23:06.862339",
     "status": "completed"
    },
    "tags": []
   },
   "outputs": [],
   "source": [
    "df.to_csv(\"cleaning_data.csv\", index=False)"
   ]
  }
 ],
 "metadata": {
  "kernelspec": {
   "display_name": "Python 3 (ipykernel)",
   "language": "python",
   "name": "python3"
  },
  "language_info": {
   "codemirror_mode": {
    "name": "ipython",
    "version": 3
   },
   "file_extension": ".py",
   "mimetype": "text/x-python",
   "name": "python",
   "nbconvert_exporter": "python",
   "pygments_lexer": "ipython3",
   "version": "3.10.9"
  },
  "papermill": {
   "default_parameters": {},
   "duration": 26.4331,
   "end_time": "2023-05-08T08:23:08.273690",
   "environment_variables": {},
   "exception": null,
   "input_path": "__notebook__.ipynb",
   "output_path": "__notebook__.ipynb",
   "parameters": {},
   "start_time": "2023-05-08T08:22:41.840590",
   "version": "2.3.4"
  }
 },
 "nbformat": 4,
 "nbformat_minor": 5
}
